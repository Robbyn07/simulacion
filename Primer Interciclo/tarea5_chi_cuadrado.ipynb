{
 "cells": [
  {
   "cell_type": "markdown",
   "metadata": {},
   "source": [
    "## Calcular, graficar y obtener el valor de Chi Cuadrado para los siguientes generadores con las siguientes semillas:"
   ]
  },
  {
   "cell_type": "code",
   "execution_count": 11,
   "metadata": {},
   "outputs": [],
   "source": [
    "## Se importan las librerias \n",
    "import math\n",
    "import random\n",
    "import matplotlib.pyplot as plt\n",
    "import numpy as np"
   ]
  },
  {
   "cell_type": "markdown",
   "metadata": {},
   "source": [
    "#### Cuadrados medios: Xo=74731897457, D=7"
   ]
  },
  {
   "cell_type": "code",
   "execution_count": 12,
   "metadata": {},
   "outputs": [],
   "source": [
    "def cuadrados_medios(xo, d):\n",
    "    vector_final = []\n",
    "    xn = xo\n",
    "    #print(\"It. \\t Xn \\t Ui \\t Rn\")\n",
    "    \n",
    "    for i in range(100):\n",
    "        xnn = xn**2\n",
    "        txnn = str(xnn).zfill(8)\n",
    "        tam = len(txnn)\n",
    "        ui = int(txnn[int(tam/2-d/2):int(tam/2+d/2)])\n",
    "        rn = ui / (int('9'*d)+1)\n",
    "        #print(str(i) + \"\\t\" + str(xn) + \"\\t\"+ str(ui)+\"\\t\"+str(rn))\n",
    "        xn = ui\n",
    "        vector_final.append(rn)\n",
    "\n",
    "    return vector_final"
   ]
  },
  {
   "cell_type": "markdown",
   "metadata": {},
   "source": [
    "#### Congruencia lineal: a=74731897457, b=37747318974, Xo=7, M=19"
   ]
  },
  {
   "cell_type": "code",
   "execution_count": 13,
   "metadata": {},
   "outputs": [],
   "source": [
    "def congruencia_lineal(a, b, xo, m):\n",
    "    vector_final = []\n",
    "    xn = xo\n",
    "    #print(\"It. \\t Xn \\t Ui\")\n",
    "\n",
    "    for i in range(100):\n",
    "        xnn = (a*xn+b) % m\n",
    "        ui = xnn/m\n",
    "        #print(str(i) + \"\\t\"+ str(xnn)+\"\\t\"+str(ui))\n",
    "        xn = xnn\n",
    "        vector_final.append(ui)\n",
    "\n",
    "    return vector_final"
   ]
  },
  {
   "cell_type": "markdown",
   "metadata": {},
   "source": [
    "#### Tauswoth: q=7, r=3, l=5"
   ]
  },
  {
   "cell_type": "code",
   "execution_count": 14,
   "metadata": {},
   "outputs": [],
   "source": [
    "def tausworthe(q, r, l):\n",
    "    vector_inicial = [1, 1, 1, 1, 1, 1, 1]\n",
    "    #print('Primeros bits: ',vector_inicial)\n",
    "\n",
    "    ##Valor de la cantidad de bits a generar, puede cambiar\n",
    "    generar = 100\n",
    "    vector_total = vector_inicial\n",
    "\n",
    "    for i in range(q+1, (l * generar)+1):\n",
    "        if vector_inicial[(i-r)-1] == vector_inicial[(i-q)-1]:\n",
    "            vector_total.append(0)\n",
    "        else:\n",
    "            vector_total.append(1)\n",
    "\n",
    "    #print('Total de bits según la cantidad: ', vector_total)\n",
    "\n",
    "    vector_separados = []\n",
    "\n",
    "    for i in range(0, len(vector_total), l):\n",
    "        vector_separados.append(vector_total[i:i + l])\n",
    "\n",
    "    #print('Bits separados según el valor de l: ', vector_separados)\n",
    "\n",
    "    vector_decimales = []\n",
    "\n",
    "    for i in vector_separados:\n",
    "        numero_bin = (\"\").join(str(e) for e in i)\n",
    "        vector_decimales.append(int(numero_bin, 2))\n",
    "\n",
    "    #print('Vector de decimales (bits convertidos): ', vector_decimales)\n",
    "\n",
    "    vector_final = []\n",
    "\n",
    "    for i in vector_decimales:\n",
    "        vector_final.append(i/2**l)\n",
    "\n",
    "    #print('Resultados: ', vector_final)\n",
    "\n",
    "    return vector_final"
   ]
  },
  {
   "cell_type": "markdown",
   "metadata": {},
   "source": [
    "#### Random de Python: semilla (11052022)"
   ]
  },
  {
   "cell_type": "code",
   "execution_count": 15,
   "metadata": {},
   "outputs": [],
   "source": [
    "def python_random():\n",
    "    vector_final = []\n",
    "    random.seed(11052022)\n",
    "    [vector_final.append(random.random())for i in range(100)]\n",
    "    \n",
    "    return vector_final"
   ]
  },
  {
   "cell_type": "code",
   "execution_count": 16,
   "metadata": {},
   "outputs": [],
   "source": [
    "## Se define una funcion para realizar un conteo de los numeros que caen dentro de cada intervalo\n",
    "def chi_cuadrado(vector_final):\n",
    "    tablas = {}\n",
    "\n",
    "    for i in np.arange(0.1, 1.1, 0.1): # aqui separo en intervalos de 0.1\n",
    "        for j in vector_final:\n",
    "            if j > i-0.1 and j <= i: # Compruebo si el valor esta dentro del intervalor\n",
    "                tablas[round(i-0.1,1)] = tablas[round(i-0.1,1)]+1 if round(i-0.1,1) in tablas else 1\n",
    "    \n",
    "    return tablas\n",
    "\n",
    "## Se define una funcion para aplicar la formula y obtener la desviacion estandar de cada intervalo\n",
    "def sumatoria_chi(tabla, E):\n",
    "  return sum([(valor-E)**2/E for valor in tabla.values()])\n",
    "\n",
    "## Se define una funcion para graficar los valores de cada intervalo\n",
    "def graficar(tabla):\n",
    "  plt.bar(range(len(tabla)), list(tabla.values()), tick_label=list(tabla.keys()))\n",
    "  plt.show()"
   ]
  },
  {
   "cell_type": "markdown",
   "metadata": {},
   "source": [
    "## Resultados de los generadores\n",
    "\n",
    "#### Cuadrados Medios"
   ]
  },
  {
   "cell_type": "code",
   "execution_count": 17,
   "metadata": {},
   "outputs": [
    {
     "name": "stdout",
     "output_type": "stream",
     "text": [
      "Los 100 numeros aleatorios generados\n",
      "[0.4975235, 0.529633, 0.5111146, 0.2381343, 0.0794483, 0.1203237, 0.7779278, 0.171662, 0.6784224, 0.2569528, 0.2474142, 0.1378636, 0.063722, 0.6049328, 0.9436925, 0.5555345, 0.6185806, 0.6419586, 0.1108441, 0.864145, 0.746581, 0.3831895, 0.8341929, 0.8777944, 0.5230086, 0.5379956, 0.4392656, 0.9542673, 0.6260798, 0.9759159, 0.4118438, 0.6153155, 0.6131645, 0.970704, 0.2662556, 0.9204453, 0.2195502, 0.0229032, 0.455657, 0.6233016, 0.5048845, 0.9083583, 0.1148011, 0.7929256, 0.7310071, 0.3713802, 0.9232529, 0.3959173, 0.7505084, 0.2628584, 0.9453845, 0.7518528, 0.2826328, 0.8129963, 0.9629838, 0.337799, 0.1081644, 0.9953742, 0.769798, 0.5889608, 0.8748239, 0.316856, 0.3977247, 0.1849369, 0.0165698, 0.4558272, 0.7784362, 0.9629174, 0.2099192, 0.6607052, 0.5313613, 0.3448311, 0.9084875, 0.3495376, 0.1765338, 0.6418254, 0.939844, 0.3067443, 0.9206558, 0.607102, 0.5728384, 0.1438325, 0.8778805, 0.6741722, 0.5081552, 0.2217072, 0.5408253, 0.4920051, 0.0690184, 0.6353953, 0.7271872, 0.8012238, 0.9595776, 0.7891704, 0.7899202, 0.9739223, 0.5246464, 0.253845, 0.3728402, 0.0098147]\n",
      "Tabla de intervalos y el conteo de numeros dentro de cada intervalo\n",
      "{0.0: 6, 0.1: 9, 0.2: 10, 0.3: 10, 0.4: 6, 0.5: 12, 0.6: 13, 0.7: 11, 0.8: 7, 0.9: 16}\n",
      "Calculamos el valor de chi cuadrado\n",
      "9.200000000000001\n",
      "Grafica de barras\n"
     ]
    },
    {
     "data": {
      "image/png": "[encoded data removed]",
      "text/plain": [
       "<Figure size 432x288 with 1 Axes>"
      ]
     },
     "metadata": {
      "needs_background": "light"
     },
     "output_type": "display_data"
    }
   ],
   "source": [
    "vector_cuadrados_medios = cuadrados_medios(74731897457, 7)\n",
    "\n",
    "print(\"Los 100 numeros aleatorios generados\")\n",
    "print(vector_cuadrados_medios)\n",
    "\n",
    "print(\"Tabla de intervalos y el conteo de numeros dentro de cada intervalo\")\n",
    "\n",
    "tablas = chi_cuadrado(vector_cuadrados_medios)\n",
    "print(tablas)\n",
    "\n",
    "print(\"Calculamos el valor de chi cuadrado\")\n",
    "print(sumatoria_chi(tablas, 10))\n",
    "\n",
    "print(\"Grafica de barras\")\n",
    "graficar(tablas)  "
   ]
  },
  {
   "cell_type": "markdown",
   "metadata": {},
   "source": [
    "#### Congruencia Lineal"
   ]
  },
  {
   "cell_type": "code",
   "execution_count": 18,
   "metadata": {},
   "outputs": [
    {
     "name": "stdout",
     "output_type": "stream",
     "text": [
      "Los 100 numeros aleatorios generados\n",
      "[0.8947368421052632, 0.8421052631578947, 0.9473684210526315, 0.7368421052631579, 0.15789473684210525, 0.3157894736842105, 0.0, 0.631578947368421, 0.3684210526315789, 0.8947368421052632, 0.8421052631578947, 0.9473684210526315, 0.7368421052631579, 0.15789473684210525, 0.3157894736842105, 0.0, 0.631578947368421, 0.3684210526315789, 0.8947368421052632, 0.8421052631578947, 0.9473684210526315, 0.7368421052631579, 0.15789473684210525, 0.3157894736842105, 0.0, 0.631578947368421, 0.3684210526315789, 0.8947368421052632, 0.8421052631578947, 0.9473684210526315, 0.7368421052631579, 0.15789473684210525, 0.3157894736842105, 0.0, 0.631578947368421, 0.3684210526315789, 0.8947368421052632, 0.8421052631578947, 0.9473684210526315, 0.7368421052631579, 0.15789473684210525, 0.3157894736842105, 0.0, 0.631578947368421, 0.3684210526315789, 0.8947368421052632, 0.8421052631578947, 0.9473684210526315, 0.7368421052631579, 0.15789473684210525, 0.3157894736842105, 0.0, 0.631578947368421, 0.3684210526315789, 0.8947368421052632, 0.8421052631578947, 0.9473684210526315, 0.7368421052631579, 0.15789473684210525, 0.3157894736842105, 0.0, 0.631578947368421, 0.3684210526315789, 0.8947368421052632, 0.8421052631578947, 0.9473684210526315, 0.7368421052631579, 0.15789473684210525, 0.3157894736842105, 0.0, 0.631578947368421, 0.3684210526315789, 0.8947368421052632, 0.8421052631578947, 0.9473684210526315, 0.7368421052631579, 0.15789473684210525, 0.3157894736842105, 0.0, 0.631578947368421, 0.3684210526315789, 0.8947368421052632, 0.8421052631578947, 0.9473684210526315, 0.7368421052631579, 0.15789473684210525, 0.3157894736842105, 0.0, 0.631578947368421, 0.3684210526315789, 0.8947368421052632, 0.8421052631578947, 0.9473684210526315, 0.7368421052631579, 0.15789473684210525, 0.3157894736842105, 0.0, 0.631578947368421, 0.3684210526315789, 0.8947368421052632]\n",
      "Tabla de intervalos y el conteo de numeros dentro de cada intervalo\n",
      "{0.1: 11, 0.3: 22, 0.6: 11, 0.7: 11, 0.8: 23, 0.9: 11}\n",
      "Calculamos el valor de chi cuadrado\n",
      "31.7\n",
      "Grafica de barras\n"
     ]
    },
    {
     "data": {
      "image/png": "[encoded data removed]",
      "text/plain": [
       "<Figure size 432x288 with 1 Axes>"
      ]
     },
     "metadata": {
      "needs_background": "light"
     },
     "output_type": "display_data"
    }
   ],
   "source": [
    "vector_congruencia_lineal = congruencia_lineal(74731897457, 37747318974, 7, 19)\n",
    "\n",
    "print(\"Los 100 numeros aleatorios generados\")\n",
    "print(vector_congruencia_lineal)\n",
    "\n",
    "print(\"Tabla de intervalos y el conteo de numeros dentro de cada intervalo\")\n",
    "\n",
    "tablas = chi_cuadrado(vector_congruencia_lineal)\n",
    "print(tablas)\n",
    "\n",
    "print(\"Calculamos el valor de chi cuadrado\")\n",
    "print(sumatoria_chi(tablas, 10))\n",
    "\n",
    "print(\"Grafica de barras\")\n",
    "graficar(tablas)  "
   ]
  },
  {
   "cell_type": "markdown",
   "metadata": {},
   "source": [
    "#### Tausworthe"
   ]
  },
  {
   "cell_type": "code",
   "execution_count": 19,
   "metadata": {},
   "outputs": [
    {
     "name": "stdout",
     "output_type": "stream",
     "text": [
      "Los 100 numeros aleatorios generados\n",
      "[0.96875, 0.75, 0.90625, 0.53125, 0.28125, 0.46875, 0.65625, 0.25, 0.34375, 0.46875, 0.21875, 0.15625, 0.375, 0.75, 0.1875, 0.8125, 0.90625, 0.09375, 0.125, 0.25, 0.0625, 0.28125, 0.625, 0.9375, 0.875, 0.21875, 0.9375, 0.21875, 0.375, 0.3125, 0.34375, 0.90625, 0.3125, 0.0625, 0.84375, 0.78125, 0.78125, 0.34375, 0.1875, 0.03125, 0.6875, 0.71875, 0.25, 0.78125, 0.0625, 0.0, 0.5625, 0.40625, 0.21875, 0.71875, 0.03125, 0.96875, 0.53125, 0.84375, 0.0625, 0.5625, 0.96875, 0.3125, 0.5, 0.6875, 0.9375, 0.4375, 0.3125, 0.78125, 0.5, 0.40625, 0.65625, 0.8125, 0.1875, 0.25, 0.5, 0.125, 0.59375, 0.28125, 0.90625, 0.75, 0.46875, 0.875, 0.4375, 0.75, 0.625, 0.71875, 0.8125, 0.625, 0.15625, 0.71875, 0.59375, 0.5625, 0.6875, 0.375, 0.09375, 0.40625, 0.4375, 0.53125, 0.5625, 0.125, 0.03125, 0.125, 0.8125, 0.46875]\n",
      "Tabla de intervalos y el conteo de numeros dentro de cada intervalo\n",
      "{0.0: 9, 0.1: 9, 0.2: 11, 0.3: 10, 0.4: 13, 0.5: 9, 0.6: 8, 0.7: 12, 0.8: 8, 0.9: 10}\n",
      "Calculamos el valor de chi cuadrado\n",
      "2.5\n",
      "Grafica de barras\n"
     ]
    },
    {
     "data": {
      "image/png": "[encoded data removed]",
      "text/plain": [
       "<Figure size 432x288 with 1 Axes>"
      ]
     },
     "metadata": {
      "needs_background": "light"
     },
     "output_type": "display_data"
    }
   ],
   "source": [
    "vector_tausworthe = tausworthe(7, 3, 5)\n",
    "\n",
    "print(\"Los 100 numeros aleatorios generados\")\n",
    "print(vector_tausworthe)\n",
    "\n",
    "print(\"Tabla de intervalos y el conteo de numeros dentro de cada intervalo\")\n",
    "\n",
    "tablas = chi_cuadrado(vector_tausworthe)\n",
    "print(tablas)\n",
    "\n",
    "print(\"Calculamos el valor de chi cuadrado\")\n",
    "print(sumatoria_chi(tablas, 10))\n",
    "\n",
    "print(\"Grafica de barras\")\n",
    "graficar(tablas)  "
   ]
  },
  {
   "cell_type": "markdown",
   "metadata": {},
   "source": [
    "#### Random de Python"
   ]
  },
  {
   "cell_type": "code",
   "execution_count": 20,
   "metadata": {},
   "outputs": [
    {
     "name": "stdout",
     "output_type": "stream",
     "text": [
      "Los 100 numeros aleatorios generados\n",
      "[0.39122091339712006, 0.08673940245642964, 0.9233776991044218, 0.5643281259214213, 0.5018754578724773, 0.6092906311578306, 0.7944410154604006, 0.4745506456495402, 0.3496767363331855, 0.08044631797968471, 0.6263578731542199, 0.2036014039706825, 0.32266209276724567, 0.1789720571675194, 0.51299029248829, 0.7770010208223913, 0.5449750015006763, 0.6965377945580097, 0.17325150202955186, 0.9000269906696816, 0.7996854776854797, 0.35322968565101953, 0.6711727475466924, 0.28345737390743064, 0.37350518006964006, 0.37916716408773543, 0.17048123118844705, 0.823379948568777, 0.22300266321497408, 0.051569135814649614, 0.1922950198508785, 0.8634191905130083, 0.5439027360115081, 0.12556216958312505, 0.34124337838965746, 0.6811002910449016, 0.07304203459633685, 0.12499764479557629, 0.2036691179102461, 0.5579574657844889, 0.7421399105045708, 0.5911979676257648, 0.985890474077214, 0.36352070742615483, 0.8983386409438613, 0.045274687387145685, 0.010854410020205485, 0.10747868006965788, 0.7310662267223154, 0.6789110128701332, 0.4681284220423234, 0.7487069922157717, 0.04797854000306567, 0.24710709969259748, 0.04930411236665988, 0.0020391251798350662, 0.07593976703716421, 0.28676974817745593, 0.0046998045473188865, 0.994987409240566, 0.9826228155176063, 0.6053241326585376, 0.5849806144858605, 0.22958414513776948, 0.10777536071052607, 0.5808351957143609, 0.572388670521242, 0.008221646874923993, 0.6896864689831648, 0.12846169495459336, 0.2535791939191787, 0.5478308529147088, 0.27120576132569874, 0.7256050877837473, 0.010751622315348097, 0.9426507923902242, 0.715282633312101, 0.5199730077235968, 0.17428944191844298, 0.8915547498465177, 0.24393711031568588, 0.018682015068336, 0.8427798991994951, 0.015499748889723719, 0.7895388047965864, 0.5450205028827372, 0.2964689443835594, 0.577139092833342, 0.3904078855024612, 0.8461885527273011, 0.2598106883020571, 0.3421468366012045, 0.8909448186747102, 0.16447232820424518, 0.20528958200149916, 0.9877596907709568, 0.27006525861806896, 0.5219510602287093, 0.5592011764902934, 0.5556146311555469]\n",
      "Tabla de intervalos y el conteo de numeros dentro de cada intervalo\n",
      "{0.0: 15, 0.1: 11, 0.2: 14, 0.3: 10, 0.4: 2, 0.5: 17, 0.6: 8, 0.7: 9, 0.8: 7, 0.9: 7}\n",
      "Calculamos el valor de chi cuadrado\n",
      "17.8\n",
      "Grafica de barras\n"
     ]
    },
    {
     "data": {
      "image/png": "[encoded data removed]",
      "text/plain": [
       "<Figure size 432x288 with 1 Axes>"
      ]
     },
     "metadata": {
      "needs_background": "light"
     },
     "output_type": "display_data"
    }
   ],
   "source": [
    "vector_random = python_random()\n",
    "\n",
    "print(\"Los 100 numeros aleatorios generados\")\n",
    "print(vector_random)\n",
    "\n",
    "print(\"Tabla de intervalos y el conteo de numeros dentro de cada intervalo\")\n",
    "\n",
    "tablas = chi_cuadrado(vector_random)\n",
    "print(tablas)\n",
    "\n",
    "print(\"Calculamos el valor de chi cuadrado\")\n",
    "print(sumatoria_chi(tablas, 10))\n",
    "\n",
    "print(\"Grafica de barras\")\n",
    "graficar(tablas)  "
   ]
  },
  {
   "cell_type": "code",
   "execution_count": null,
   "metadata": {},
   "outputs": [],
   "source": []
  }
 ],
 "metadata": {
  "interpreter": {
   "hash": "31f2aee4e71d21fbe5cf8b01ff0e069b9275f58929596ceb00d14d90e3e16cd6"
  },
  "kernelspec": {
   "display_name": "Python 3.9.7 64-bit",
   "language": "python",
   "name": "python3"
  },
  "language_info": {
   "codemirror_mode": {
    "name": "ipython",
    "version": 3
   },
   "file_extension": ".py",
   "mimetype": "text/x-python",
   "name": "python",
   "nbconvert_exporter": "python",
   "pygments_lexer": "ipython3",
   "version": "3.9.7"
  },
  "orig_nbformat": 4
 },
 "nbformat": 4,
 "nbformat_minor": 2
}
