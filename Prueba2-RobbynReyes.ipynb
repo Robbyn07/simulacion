{
 "cells": [
  {
   "cell_type": "markdown",
   "metadata": {},
   "source": [
    "## Prueba 2 - Validación de Independencia\n",
    "#### Realice un programa que permita validara la independencia de datos y generar una grafica de pie que represente el total de 0 y 1 generados, además del numero de corridas generados por los métodos de cuadrados medios, productos medios y random para validar la Hipótesis."
   ]
  },
  {
   "cell_type": "code",
   "execution_count": 86,
   "metadata": {},
   "outputs": [],
   "source": [
    "#>= 0.5 == 1\n",
    "import math\n",
    "import random\n",
    "import matplotlib.pyplot as plt\n",
    "import numpy as np"
   ]
  },
  {
   "cell_type": "markdown",
   "metadata": {},
   "source": [
    "#### Funciones para la generacion de numeros pseudoaleatorios"
   ]
  },
  {
   "cell_type": "code",
   "execution_count": 88,
   "metadata": {},
   "outputs": [],
   "source": [
    "def cuadrados_medios(xo, d):\n",
    "    vector_final = []\n",
    "    xn = xo\n",
    "    #print(\"It. \\t Xn \\t Ui \\t Rn\")\n",
    "    \n",
    "    for i in range(100):\n",
    "        xnn = xn**2\n",
    "        txnn = str(xnn).zfill(8)\n",
    "        tam = len(txnn)\n",
    "        ui = int(txnn[int(tam/2-d/2):int(tam/2+d/2)])\n",
    "        rn = ui / (int('9'*d)+1)\n",
    "        #print(str(i) + \"\\t\" + str(xn) + \"\\t\"+ str(ui)+\"\\t\"+str(rn))\n",
    "        xn = ui\n",
    "        vector_final.append(rn)\n",
    "\n",
    "    return vector_final\n",
    "\n",
    "def congruencia_lineal(a, b, xo, m):\n",
    "    vector_final = []\n",
    "    xn = xo\n",
    "    #print(\"It. \\t Xn \\t Ui\")\n",
    "\n",
    "    for i in range(100):\n",
    "        xnn = (a*xn+b) % m\n",
    "        ui = xnn/m\n",
    "        #print(str(i) + \"\\t\"+ str(xnn)+\"\\t\"+str(ui))\n",
    "        xn = xnn\n",
    "        vector_final.append(ui)\n",
    "\n",
    "    return vector_final\n",
    "\n",
    "def python_random():\n",
    "    vector_final = []\n",
    "    random.seed(1032022)\n",
    "    [vector_final.append(random.random())for i in range(100)]\n",
    "    \n",
    "    return vector_final\n",
    "\n",
    "def tausworthe(q, r, l):\n",
    "    vector_inicial = [1, 1, 1, 1, 1, 1, 1, 1, 1, 1, 1, 1, 1, 1, 1]\n",
    "    #print('Primeros bits: ',vector_inicial)\n",
    "\n",
    "    ##Valor de la cantidad de bits a generar, puede cambiar\n",
    "    generar = 100\n",
    "    vector_total = vector_inicial\n",
    "\n",
    "    for i in range(q+1, (l * generar)+1):\n",
    "        if vector_inicial[(i-r)-1] == vector_inicial[(i-q)-1]:\n",
    "            vector_total.append(0)\n",
    "        else:\n",
    "            vector_total.append(1)\n",
    "\n",
    "    #print('Total de bits según la cantidad: ', vector_total)\n",
    "\n",
    "    vector_separados = []\n",
    "\n",
    "    for i in range(0, len(vector_total), l):\n",
    "        vector_separados.append(vector_total[i:i + l])\n",
    "\n",
    "    #print('Bits separados según el valor de l: ', vector_separados)\n",
    "\n",
    "    vector_decimales = []\n",
    "\n",
    "    for i in vector_separados:\n",
    "        numero_bin = (\"\").join(str(e) for e in i)\n",
    "        vector_decimales.append(int(numero_bin, 2))\n",
    "\n",
    "    #print('Vector de decimales (bits convertidos): ', vector_decimales)\n",
    "\n",
    "    vector_final = []\n",
    "\n",
    "    for i in vector_decimales:\n",
    "        vector_final.append(i/2**l)\n",
    "\n",
    "    #print('Resultados: ', vector_final)\n",
    "\n",
    "    return vector_final"
   ]
  },
  {
   "cell_type": "markdown",
   "metadata": {},
   "source": [
    "#### Funciones para calculos de Validacion de Independencia"
   ]
  },
  {
   "cell_type": "code",
   "execution_count": 89,
   "metadata": {},
   "outputs": [],
   "source": [
    "def secuencia_1_0(vector_final):\n",
    "    vector_secuencia = []\n",
    "\n",
    "    for i in vector_final:\n",
    "        if (i >= 0.5):\n",
    "            vector_secuencia.append(1)\n",
    "        else:\n",
    "            vector_secuencia.append(0)\n",
    "\n",
    "    return vector_secuencia\n",
    "\n",
    "def datos_secuencia(vector_secuencia):\n",
    "    corrida = 1\n",
    "    n0 = 0\n",
    "    n1 = 0\n",
    "\n",
    "    try:\n",
    "        for i in range(len(vector_secuencia)):\n",
    "\n",
    "            if (vector_secuencia[i] == 1):\n",
    "                n1 += 1\n",
    "            \n",
    "            elif (vector_secuencia[i] == 0):\n",
    "                n0 += 1\n",
    "\n",
    "            if (vector_secuencia[i] != vector_secuencia[i+1]):\n",
    "                corrida += 1\n",
    "\n",
    "\n",
    "    except:\n",
    "        print('Aqui acaba el bucle.')\n",
    "\n",
    "    return corrida, n0, n1\n",
    "\n",
    "def valores_comprobacion(n0, n1, co):\n",
    "    n = n0 + n1\n",
    "\n",
    "    valor_esperado = ((2*n0*n1)/n)+(1/2)\n",
    "    varianza = ((2*n0*n1)*(2*n0*n1-n))/(n^2*(n-1))\n",
    "    estadistico = (co - valor_esperado)/math.sqrt(varianza)\n",
    "\n",
    "    comprobar = 1.96\n",
    "\n",
    "    if ((estadistico >= -comprobar) & (estadistico <= comprobar)):\n",
    "        print('El valor ', estadistico, ' cae dentro del intervalo')\n",
    "    else:\n",
    "        print('El valor ', estadistico, ' no cae dentro del intervalo')\n",
    "\n",
    "def grafica_pie_sencuencia(datos):\n",
    "\n",
    "    plt.figure()\n",
    "    \n",
    "    nombres = ['Unos', 'Ceros']\n",
    "    data = [datos[2], datos[1]] \n",
    "\n",
    "    plt.pie(data, labels=nombres, autopct=\"%0.1f %%\")\n",
    "    plt.axis(\"equal\")\n",
    "    plt.show()\n",
    "\n"
   ]
  },
  {
   "cell_type": "markdown",
   "metadata": {},
   "source": [
    "#### Ejecucion Cuadrados Medios"
   ]
  },
  {
   "cell_type": "code",
   "execution_count": 90,
   "metadata": {},
   "outputs": [
    {
     "name": "stdout",
     "output_type": "stream",
     "text": [
      "Aqui acaba el bucle.\n",
      "Datos de la secuencia\n",
      "Corrida:  49\n",
      "Ceros:  41\n",
      "Unos:  59\n",
      "Validacion de Independencia\n",
      "El valor  0.0003190129352819716  cae dentro del intervalo\n",
      "Grafica de Datos\n"
     ]
    },
    {
     "data": {
      "image/png": "[encoded data removed]",
      "text/plain": [
       "<Figure size 432x288 with 1 Axes>"
      ]
     },
     "metadata": {},
     "output_type": "display_data"
    }
   ],
   "source": [
    "vector_cuadrados_medios = cuadrados_medios(74731897457, 7)\n",
    "\n",
    "#print('Numeros pseudoalatorios generados')\n",
    "print(vector_cuadrados_medios)\n",
    "\n",
    "secuencia_cuadrados_medios = secuencia_1_0(vector_cuadrados_medios)\n",
    "#print('Secuencia de 1 y 0')\n",
    "#print(secuencia_cuadrados_medios)\n",
    "\n",
    "valores_secuencia_cuadrados_medios = datos_secuencia(secuencia_cuadrados_medios)\n",
    "\n",
    "print('Datos de la secuencia')\n",
    "#print(valores_secuencia)\n",
    "print('Corrida: ', valores_secuencia_cuadrados_medios[0])\n",
    "print('Ceros: ', valores_secuencia_cuadrados_medios[1])\n",
    "print('Unos: ', valores_secuencia_cuadrados_medios[2])\n",
    "\n",
    "print('Validacion de Independencia')\n",
    "valores_comprobacion(valores_secuencia_cuadrados_medios[1], valores_secuencia_cuadrados_medios[2], valores_secuencia_cuadrados_medios[0])\n",
    "\n",
    "print('Grafica de Datos')\n",
    "grafica_pie_sencuencia(valores_secuencia_cuadrados_medios)\n"
   ]
  },
  {
   "cell_type": "markdown",
   "metadata": {},
   "source": [
    "#### Ejecucion Congruencia Lineal"
   ]
  },
  {
   "cell_type": "code",
   "execution_count": 91,
   "metadata": {},
   "outputs": [
    {
     "name": "stdout",
     "output_type": "stream",
     "text": [
      "Aqui acaba el bucle.\n",
      "Datos de la secuencia\n",
      "Corrida:  45\n",
      "Ceros:  44\n",
      "Unos:  56\n",
      "Validacion de Independencia\n",
      "El valor  -0.012472870795889806  cae dentro del intervalo\n",
      "Grafica de Datos\n"
     ]
    },
    {
     "data": {
      "image/png": "[encoded data removed]",
      "text/plain": [
       "<Figure size 432x288 with 1 Axes>"
      ]
     },
     "metadata": {},
     "output_type": "display_data"
    }
   ],
   "source": [
    "vector_congruencia_lineal = congruencia_lineal(74731897457, 37747318974, 7, 19)\n",
    "\n",
    "#print('Numeros pseudoalatorios generados')\n",
    "print(vector_congruencia_lineal)\n",
    "\n",
    "secuencia_congruencia_lineal = secuencia_1_0(vector_congruencia_lineal)\n",
    "#print('Secuencia de 1 y 0')\n",
    "#print(secuencia_congruencia_lineal)\n",
    "\n",
    "valores_secuencia_congruencia_lineal = datos_secuencia(secuencia_congruencia_lineal)\n",
    "\n",
    "print('Datos de la secuencia')\n",
    "#print(valores_secuencia)\n",
    "print('Corrida: ', valores_secuencia_congruencia_lineal[0])\n",
    "print('Ceros: ', valores_secuencia_congruencia_lineal[1])\n",
    "print('Unos: ', valores_secuencia_congruencia_lineal[2])\n",
    "\n",
    "print('Validacion de Independencia')\n",
    "valores_comprobacion(valores_secuencia_congruencia_lineal[1], valores_secuencia_congruencia_lineal[2], valores_secuencia_congruencia_lineal[0])\n",
    "\n",
    "print('Grafica de Datos')\n",
    "grafica_pie_sencuencia(valores_secuencia_congruencia_lineal)"
   ]
  },
  {
   "cell_type": "markdown",
   "metadata": {},
   "source": [
    "#### Ejecucion Random Python"
   ]
  },
  {
   "cell_type": "code",
   "execution_count": 92,
   "metadata": {},
   "outputs": [
    {
     "name": "stdout",
     "output_type": "stream",
     "text": [
      "Aqui acaba el bucle.\n",
      "Datos de la secuencia\n",
      "Corrida:  46\n",
      "Ceros:  57\n",
      "Unos:  43\n",
      "Validacion de Independencia\n",
      "El valor  -0.009234267251422732  cae dentro del intervalo\n",
      "Grafica de Datos\n"
     ]
    },
    {
     "data": {
      "image/png": "[encoded data removed]",
      "text/plain": [
       "<Figure size 432x288 with 1 Axes>"
      ]
     },
     "metadata": {},
     "output_type": "display_data"
    }
   ],
   "source": [
    "vector_random = python_random()\n",
    "\n",
    "#print('Numeros pseudoalatorios generados')\n",
    "#print(vector_random)\n",
    "\n",
    "secuencia_random = secuencia_1_0(vector_random)\n",
    "#print('Secuencia de 1 y 0')\n",
    "#print(secuencia_random)\n",
    "\n",
    "valores_secuencia_random = datos_secuencia(secuencia_random)\n",
    "\n",
    "print('Datos de la secuencia')\n",
    "#print(valores_secuencia)\n",
    "print('Corrida: ', valores_secuencia_random[0])\n",
    "print('Ceros: ', valores_secuencia_random[1])\n",
    "print('Unos: ', valores_secuencia_random[2])\n",
    "\n",
    "print('Validacion de Independencia')\n",
    "valores_comprobacion(valores_secuencia_random[1], valores_secuencia_random[2], valores_secuencia_random[0])\n",
    "\n",
    "print('Grafica de Datos')\n",
    "grafica_pie_sencuencia(valores_secuencia_random)\n",
    "\n"
   ]
  },
  {
   "cell_type": "markdown",
   "metadata": {},
   "source": [
    "#### Ejecucion Tausworthe"
   ]
  },
  {
   "cell_type": "code",
   "execution_count": 78,
   "metadata": {},
   "outputs": [
    {
     "name": "stdout",
     "output_type": "stream",
     "text": [
      "Aqui acaba el bucle.\n",
      "Datos de la secuencia\n",
      "Corrida:  48\n",
      "Ceros:  42\n",
      "Unos:  58\n",
      "Validacion de Independencia\n",
      "El valor  -0.003220427159667197  cae dentro del intervalo\n",
      "Grafica de Datos\n"
     ]
    },
    {
     "data": {
      "image/png": "[encoded data removed]",
      "text/plain": [
       "<Figure size 432x288 with 1 Axes>"
      ]
     },
     "metadata": {},
     "output_type": "display_data"
    }
   ],
   "source": [
    "vector_tausworthe = tausworthe(15, 7, 7)\n",
    "\n",
    "#print('Numeros pseudoalatorios generados')\n",
    "#print(vector_tausworthe)\n",
    "\n",
    "secuencia_tausworthe = secuencia_1_0(vector_tausworthe)\n",
    "#print('Secuencia de 1 y 0')\n",
    "#print(secuencia_tausworthe)\n",
    "\n",
    "valores_secuencia_tausworthe = datos_secuencia(secuencia_tausworthe)\n",
    "\n",
    "print('Datos de la secuencia')\n",
    "#print(valores_secuencia)\n",
    "print('Corrida: ', valores_secuencia_tausworthe[0])\n",
    "print('Ceros: ', valores_secuencia_tausworthe[1])\n",
    "print('Unos: ', valores_secuencia_tausworthe[2])\n",
    "\n",
    "print('Validacion de Independencia')\n",
    "valores_comprobacion(valores_secuencia_tausworthe[1], valores_secuencia_tausworthe[2], valores_secuencia_tausworthe[0])\n",
    "\n",
    "print('Grafica de Datos')\n",
    "grafica_pie_sencuencia(valores_secuencia_tausworthe)"
   ]
  },
  {
   "cell_type": "markdown",
   "metadata": {},
   "source": [
    "#### Grafica de corridas por generador"
   ]
  },
  {
   "cell_type": "code",
   "execution_count": 93,
   "metadata": {},
   "outputs": [
    {
     "data": {
      "image/png": "[encoded data removed]",
      "text/plain": [
       "<Figure size 432x288 with 1 Axes>"
      ]
     },
     "metadata": {},
     "output_type": "display_data"
    }
   ],
   "source": [
    "plt.figure()\n",
    "plt.title('Corridas por Generador')    \n",
    "\n",
    "\n",
    "nombres = ['Cuadrados Medios', 'Congruencia Lineal', 'Random Python', 'Tausworthe']\n",
    "data = [valores_secuencia_cuadrados_medios[0], valores_secuencia_congruencia_lineal[0], valores_secuencia_random[0], valores_secuencia_tausworthe[0]] \n",
    "\n",
    "plt.pie(data, labels=nombres, autopct=\"%0.1f %%\")\n",
    "plt.axis(\"equal\")\n",
    "plt.show()"
   ]
  },
  {
   "cell_type": "code",
   "execution_count": null,
   "metadata": {},
   "outputs": [],
   "source": []
  }
 ],
 "metadata": {
  "interpreter": {
   "hash": "916dbcbb3f70747c44a77c7bcd40155683ae19c65e1c03b4aa3499c5328201f1"
  },
  "kernelspec": {
   "display_name": "Python 3.9.7 64-bit",
   "language": "python",
   "name": "python3"
  },
  "language_info": {
   "codemirror_mode": {
    "name": "ipython",
    "version": 3
   },
   "file_extension": ".py",
   "mimetype": "text/x-python",
   "name": "python",
   "nbconvert_exporter": "python",
   "pygments_lexer": "ipython3",
   "version": "3.9.7"
  },
  "orig_nbformat": 4
 },
 "nbformat": 4,
 "nbformat_minor": 2
}
