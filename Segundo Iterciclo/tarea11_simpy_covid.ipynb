{
 "cells": [
  {
   "cell_type": "markdown",
   "metadata": {},
   "source": [
    "## Practica COVID\n",
    "\n",
    "Realizar la planificación y modelado de una simulacion basado en eventos discretos para identificar los contagios dentro de un establecimiento de estudiantes post COVID-19 para el reingreso de clases. Los pasos para el regreso progresivo a clases se describe a continuación:\n",
    "* Calcular e Identificar el aforo máximo permitido en la institución educativa.\n",
    "* Identificar el número de estudiantes y el porcentaje de contagio dentro del contexto poblacional el mismo que se aplicara dentro de la simulación por el contagio.\n",
    "* Generar la simulación desde la puerta de ingreso y la salida del plantel por día.\n",
    "* Los estudiantes hacen fila para ingresar al establecimiento y no pueden superar el aforo permitido.\n",
    "* Realizar con un tiempo de un 1 mes.\n",
    "         \n",
    "Generar graficas que indiquen los estudiantes que presentaron complicaciones y el total de estudiantes por establecimiento en cada día o semana.\n",
    "\n",
    "**Nota**: No tomar datos de transporte, numero de aulas, personal docente, etc. Solo se el ingreso, salida y el contagio dentro del establecimiento."
   ]
  },
  {
   "cell_type": "code",
   "execution_count": 22,
   "metadata": {},
   "outputs": [],
   "source": [
    "## se importan las librerias \n",
    "\n",
    "import simpy\n",
    "import random\n",
    "import matplotlib.pyplot as plt\n",
    "from scipy import stats "
   ]
  },
  {
   "cell_type": "code",
   "execution_count": 23,
   "metadata": {},
   "outputs": [],
   "source": [
    "PORCENTAJE_CONTAGIO = 0.05\n",
    "AFORO = 300 \n",
    "TIEMPO_SIMULACION = 360*38\n",
    "DIAS = 1\n",
    "\n",
    "estadia = 0\n",
    "total_contagiados = {} ##por dia"
   ]
  },
  {
   "cell_type": "code",
   "execution_count": 24,
   "metadata": {},
   "outputs": [
    {
     "name": "stdout",
     "output_type": "stream",
     "text": [
      "Inicio de clases\n"
     ]
    }
   ],
   "source": [
    "class Establecimiento(object):    \n",
    "    def __init__(self, environment, AFORO):\n",
    "        self.env = environment\n",
    "        self.aforo = simpy.Resource(environment, AFORO)\n",
    "\n",
    "    def duracion_clases(self):\n",
    "        yield self.env.timeout(360) #6 horas\n",
    "\n",
    "def llegada_estudiantes(env, establecimiento, contagio, dia):\n",
    "    with establecimiento.aforo.request() as estudiante:\n",
    "\n",
    "        contagiados = 0\n",
    "        yield estudiante\n",
    "        yield env.process(establecimiento.duracion_clases())\n",
    "\n",
    "        if estadia<=0 and estadia<60:\n",
    "            bernoulli = stats.bernoulli(contagio)\n",
    "            contagiados = bernoulli.rvs(1)\n",
    "\n",
    "        elif estadia<=60 and estadia<120:\n",
    "            contagio =+ 0.1\n",
    "            bernoulli = stats.bernoulli(contagio)\n",
    "            contagiados = bernoulli.rvs(1)\n",
    "\n",
    "        elif estadia>=120 and estadia<180:\n",
    "            contagio =+ 0.2\n",
    "            bernoulli = stats.bernoulli(contagio)\n",
    "            contagiados = bernoulli.rvs(1)\n",
    "\n",
    "        elif estadia>=180 and estadia<240:\n",
    "            contagio =+ 0.3\n",
    "            bernoulli = stats.bernoulli(contagio)\n",
    "            contagiados = bernoulli.rvs(1)\n",
    "\n",
    "        elif estadia>=240 and estadia<300:\n",
    "            contagio =+ 0.4\n",
    "            bernoulli = stats.bernoulli(contagio)\n",
    "            contagiados = bernoulli.rvs(1)\n",
    "\n",
    "        elif estadia>=300 and estadia<360:\n",
    "            contagio =+ 0.5\n",
    "            bernoulli = stats.bernoulli(contagio)\n",
    "            contagiados = bernoulli.rvs(1)\n",
    "\n",
    "        if contagiados == 1 :\n",
    "            if dia in total_contagiados.keys():\n",
    "                total_contagiados[dia]+=1\n",
    "            else:\n",
    "                total_contagiados[dia]=1\n",
    "\n",
    "def ejecutar_simulacion(env, aforo):\n",
    "    establecimiento = Establecimiento(env, aforo)\n",
    "    global total_contagiados\n",
    "    global DIAS\n",
    "    global estadia\n",
    "    \n",
    "    while True:\n",
    "        estadia += 1\n",
    "        yield env.timeout(1)\n",
    "        env.process(llegada_estudiantes(env, establecimiento, PORCENTAJE_CONTAGIO, DIAS))\n",
    "        \n",
    "        if estadia == 360:\n",
    "            DIAS += 1\n",
    "            estadia = 0\n",
    "        # contagios.append(contador)\n",
    "        \n",
    "print('Inicio de clases')\n",
    "\n",
    "env = simpy.Environment()\n",
    "env.process(ejecutar_simulacion(env, AFORO))\n",
    "env.run(until = TIEMPO_SIMULACION)"
   ]
  },
  {
   "cell_type": "code",
   "execution_count": 25,
   "metadata": {},
   "outputs": [
    {
     "data": {
      "image/png": "[encoded data removed]",
      "text/plain": [
       "<Figure size 432x288 with 1 Axes>"
      ]
     },
     "metadata": {
      "needs_background": "light"
     },
     "output_type": "display_data"
    }
   ],
   "source": [
    "etiqueta =  list(total_contagiados.keys())\n",
    "valores = list(total_contagiados.values())\n",
    "\n",
    "plt.bar(etiqueta, valores, align=\"center\")\n",
    "plt.title(\"Nro. de contagios por dia\")\n",
    "plt.xlabel(\"Dia\")\n",
    "plt.ylabel(\"Nro. Contagiados\")\n",
    "plt.show()"
   ]
  },
  {
   "cell_type": "code",
   "execution_count": null,
   "metadata": {},
   "outputs": [],
   "source": []
  }
 ],
 "metadata": {
  "interpreter": {
   "hash": "31f2aee4e71d21fbe5cf8b01ff0e069b9275f58929596ceb00d14d90e3e16cd6"
  },
  "kernelspec": {
   "display_name": "Python 3.10.4 64-bit",
   "language": "python",
   "name": "python3"
  },
  "language_info": {
   "codemirror_mode": {
    "name": "ipython",
    "version": 3
   },
   "file_extension": ".py",
   "mimetype": "text/x-python",
   "name": "python",
   "nbconvert_exporter": "python",
   "pygments_lexer": "ipython3",
   "version": "3.10.4"
  },
  "orig_nbformat": 4
 },
 "nbformat": 4,
 "nbformat_minor": 2
}
