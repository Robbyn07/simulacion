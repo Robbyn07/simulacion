{
 "cells": [
  {
   "cell_type": "markdown",
   "metadata": {},
   "source": [
    "## Prueba 4\n",
    "#### Desarrollar un sistema de eventos discretos para EMOV utilizando Simpy."
   ]
  },
  {
   "cell_type": "code",
   "execution_count": 10,
   "metadata": {},
   "outputs": [],
   "source": [
    "#Se importan las librerias\n",
    "import simpy\n",
    "import random\n",
    "import matplotlib.pyplot as plt\n",
    "from scipy import stats \n",
    "import numpy as np\n",
    "import math"
   ]
  },
  {
   "cell_type": "code",
   "execution_count": 11,
   "metadata": {},
   "outputs": [
    {
     "name": "stdout",
     "output_type": "stream",
     "text": [
      "EMOV Cuenca-aire\n"
     ]
    }
   ],
   "source": [
    "tiempo={}\n",
    "nMaquina=[0,0]\n",
    "vehiculosPesados=['buseta','bus','camion']\n",
    "repetir=[]\n",
    "aprobados=[]\n",
    "no_aprobados=[]\n",
    "num_vehiculos_por_dia=[]\n",
    "carril1=[]\n",
    "carril2=[]\n",
    "carril3=[]\n",
    "tiempos_acum=[]\n",
    "\n",
    "total_no_aprobados=[]\n",
    "total_aprobados=[]\n",
    "\n",
    "carriles={'carril1':[],'carril2':[],'carril3':[]}\n",
    "\n",
    "ac=0\n",
    "\n",
    "\n",
    "class EMOV(object):\n",
    "    \n",
    "    def __init__(self, environment, num_carril_normal, num_carril_grande):\n",
    "        self.env=environment\n",
    "        self.carril_normal = simpy.Resource(environment, num_carril_normal)\n",
    "        self.carril_grande = simpy.Resource(environment, num_carril_grande)\n",
    "\n",
    "    def revisión(self, vehiculo):\n",
    "        global ac\n",
    "\n",
    "        tiempoAleatorio=0\n",
    "        while True:\n",
    "            mu, sigma = 20/60, 10/60 # media y desvio estandar\n",
    "            normal = stats.norm(mu, sigma)\n",
    "            tiempoAleatorio = normal.rvs(1) # genera aleatorios\n",
    "\n",
    "            # print('El vehiculo: ',vehiculo,)\n",
    "            if tiempoAleatorio>=0:\n",
    "                break\n",
    "        \n",
    "        ac+=tiempoAleatorio\n",
    "\n",
    "        yield self.env.timeout(tiempoAleatorio)\n",
    "\n",
    "def llegada_vehiculo(env, nombre, emov):\n",
    "    global nMaquina\n",
    "    global repetir\n",
    "    global aprobados\n",
    "    global no_aprobados\n",
    "    global carril1\n",
    "    global carril2\n",
    "    global carril3\n",
    "    global total_no_aprobados\n",
    "    global total_aprobados\n",
    "    global ac\n",
    "\n",
    "    # print('Llega vehiculo: %s a la hora %.2f.' % (nombre, env.now))\n",
    "    \n",
    "    vehi=nombre.split(' ')[0]\n",
    "    t=random.randrange(3,5)\n",
    "    ac+=t\n",
    "\n",
    "    yield env.timeout(t)\n",
    "\n",
    "    # print('El vehiculo ',nombre,' se estaciono hasta la hora',env.now)\n",
    "    t=random.randrange(1,3)\n",
    "    ac+=t\n",
    "\n",
    "    yield env.timeout(t)\n",
    "    # print('El vehiculo ',nombre,' saco el turno a la hora',env.now)\n",
    "\n",
    "    t=random.randrange(5,10)\n",
    "    ac+=t\n",
    "\n",
    "    yield env.timeout(t)\n",
    "    # print('El vehiculo ',nombre,' termino de pagar la matricula a la hora',env.now)\n",
    "\n",
    "    if vehi not in vehiculosPesados:\n",
    "        with emov.carril_normal.request() as carril_norm:\n",
    "            yield carril_norm\n",
    "            nM=0\n",
    "\n",
    "            for i in range(len(nMaquina)):\n",
    "                if nMaquina[i] == 0:\n",
    "                    nM=i+1\n",
    "                    nMaquina[i] = str(carril_norm)\n",
    "                    break\n",
    "\n",
    "            vehiculo=nombre.split(' ')[0]\n",
    "\n",
    "            if nM == 1:\n",
    "                carril1.append(1)\n",
    "            else:\n",
    "                carril2.append(1)\n",
    "            # print('El vehiculo ',nombre,' entra a la revision en el carril:',nM,' a la hora',env.now)\n",
    "\n",
    "            yield env.process(emov.revisión(nombre))\n",
    "            nMaquina[nM-1]=0\n",
    "            # print('Vehiculo [%s] revisado a las %.2f.' % (nombre, env.now))\n",
    "\n",
    "            pasa_no_pasa = [0,1] \n",
    "            pasa_no_pasa=np.random.choice(pasa_no_pasa, p=(0.40,0.60))\n",
    "\n",
    "            if pasa_no_pasa == 1:\n",
    "                aprobados.append(1)\n",
    "                t=random.randrange(1,3)\n",
    "                yield env.timeout(t)\n",
    "                # print('Vehiculo [%s] puesto el sello a las %.2f.' % (nombre, env.now))\n",
    "            else:\n",
    "                no_aprobados.append(1)\n",
    "                repetir.append(nombre)\n",
    "            \n",
    "            t=random.randrange(5,10)\n",
    "            ac+=t\n",
    "            yield env.timeout(t)\n",
    "            # print('Vehiculo [%s] sale a las %.2f.' % (nombre, env.now))\n",
    "\n",
    "    else:\n",
    "        with emov.carril_grande.request() as carril_grande:\n",
    "            yield carril_grande\n",
    "            # print('El vehiculo ',nombre,' entra a la revision en el carril:',3,' a la hora',env.now)\n",
    "\n",
    "            yield env.process(emov.revisión(nombre))\n",
    "            # print('Vehiculo [%s] revisado a las %.2f.' % (nombre, env.now))\n",
    "            carril3.append(1)\n",
    "            pasa_no_pasa = [0,1] \n",
    "            pasa_no_pasa=np.random.choice(pasa_no_pasa, p=(0.40,0.60))\n",
    "\n",
    "            if pasa_no_pasa == 1:\n",
    "                total_aprobados.append(1)\n",
    "                aprobados.append(1)\n",
    "                t=random.randrange(1,3)\n",
    "                ac+=t\n",
    "                yield env.timeout(t)\n",
    "                # print('Vehiculo [%s] puesto el sello a las %.2f.' % (nombre, env.now))\n",
    "            else:\n",
    "                total_no_aprobados.append(1)\n",
    "                no_aprobados.append(1)\n",
    "                repetir.append(nombre)\n",
    "\n",
    "            t=random.randrange(5,10)\n",
    "            ac+=t\n",
    "            yield env.timeout(t)\n",
    "            # print('Vehiculo [%s] sale a las %.2f.' % (nombre, env.now))\n",
    "    \n",
    "def ejecutar_simulacion(env, num_carril_normal, num_carril_grande):\n",
    "    global num_vehiculos_por_dia\n",
    "    global carril1\n",
    "    global carril2\n",
    "    global carril3\n",
    "    global carriles\n",
    "    global no_aprobados\n",
    "    global repetir\n",
    "    global ac\n",
    "    global tiempos_acum\n",
    "    \n",
    "    emov=EMOV(env, num_carril_normal, num_carril_grande)\n",
    "    v={'buseta':0,'bus':0,'camion':0,'automovil':0}\n",
    "    # Ejecutamos la simulacion\n",
    "    acum=0\n",
    "    acum1=0\n",
    "    aux=0\n",
    "\n",
    "    while True:\n",
    "        # yield env.timeout(random.randint(intervalo-3, intervalo+3))\n",
    "        yield env.timeout(3)\n",
    "        acum+=round(env.now)\n",
    "        ro=math.trunc(round(env.now)/1440)\n",
    "\n",
    "        if ro%2 == 0:\n",
    "            for ve in repetir:\n",
    "                env.process(llegada_vehiculo(env, ve, emov))\n",
    "            repetir=[] \n",
    "        else:    \n",
    "            # Mientras se lavan los vehiculos generamos mas vehiculos\n",
    "            vehiculos = ['buseta','bus','camion','automovil'] \n",
    "            vehiculo= random.choices(vehiculos, weights=(0.15,0.15,0.15,0.85), k=1)\n",
    "            v[str(vehiculo[0])]+=1\n",
    "            env.process(llegada_vehiculo(env, str(str(vehiculo[0])+' '+str(v[str(vehiculo[0])])),emov))\n",
    "\n",
    "        if ro != aux:\n",
    "            carriles['carril1'].append(len(carril1))\n",
    "            carriles['carril2'].append(len(carril2))\n",
    "            carriles['carril3'].append(len(carril3))\n",
    "            tiempos_acum.append(ac)\n",
    "            acum1=len(carril1)+len(carril2)+len(carril3)\n",
    "            num_vehiculos_por_dia.append(acum1)\n",
    "            acum1=0\n",
    "            acum=0\n",
    "            carril1=[]\n",
    "            carril2=[]\n",
    "            carril3=[]\n",
    "            aux=ro\n",
    "            ac=0\n",
    "\n",
    "NUM_CARRIL_NORMAL = 2\n",
    "\n",
    "NUM_CARRIL_GRANDE = 1\n",
    "\n",
    "TIEMPO_SIMULACION = 30*24*60\n",
    "\n",
    "\n",
    "print('EMOV Cuenca-aire')\n",
    "# Inicializamos la semilla aleatoria\n",
    "random.seed(77)\n",
    "\n",
    "# Creamos el entorno de simulacion\n",
    "env=simpy.Environment()\n",
    "env.process(ejecutar_simulacion(env, NUM_CARRIL_NORMAL, NUM_CARRIL_GRANDE))\n",
    "\n",
    "# Ejecutamos el proceso durante el tiempo de simulacion\n",
    "env.run(until = TIEMPO_SIMULACION)\n"
   ]
  },
  {
   "cell_type": "markdown",
   "metadata": {},
   "source": [
    "### Primera Gráfica"
   ]
  },
  {
   "cell_type": "code",
   "execution_count": 12,
   "metadata": {},
   "outputs": [
    {
     "data": {
      "image/png": "[encoded data removed]",
      "text/plain": [
       "<Figure size 432x288 with 1 Axes>"
      ]
     },
     "metadata": {
      "needs_background": "light"
     },
     "output_type": "display_data"
    }
   ],
   "source": [
    "etiqueta = list(range(len(num_vehiculos_por_dia)))\n",
    "valores = num_vehiculos_por_dia\n",
    "plt.bar(etiqueta, valores, align=\"center\", tick_label=etiqueta)\n",
    "plt.title(\"Vehiculos en la EMOV\")\n",
    "plt.xlabel(\"Dia\")\n",
    "plt.ylabel(\"Nro. Vehiculos\")\n",
    "plt.show()"
   ]
  },
  {
   "cell_type": "markdown",
   "metadata": {},
   "source": [
    "### Gráficas de vehículos por carril"
   ]
  },
  {
   "cell_type": "code",
   "execution_count": 13,
   "metadata": {},
   "outputs": [
    {
     "data": {
      "image/png": "[encoded data removed]",
      "text/plain": [
       "<Figure size 432x288 with 1 Axes>"
      ]
     },
     "metadata": {
      "needs_background": "light"
     },
     "output_type": "display_data"
    }
   ],
   "source": [
    "etiqueta = list(range(len(carriles['carril1'])))\n",
    "valores = carriles['carril1']\n",
    "\n",
    "plt.bar(etiqueta, valores, align=\"center\", tick_label=etiqueta)\n",
    "\n",
    "plt.title(\"# Vehiculos en el carril 1\")\n",
    "plt.xlabel(\"Dia\")\n",
    "plt.ylabel(\"Nro. Vehiculos\")\n",
    "plt.show()"
   ]
  },
  {
   "cell_type": "code",
   "execution_count": 14,
   "metadata": {},
   "outputs": [
    {
     "data": {
      "image/png": "[encoded data removed]",
      "text/plain": [
       "<Figure size 432x288 with 1 Axes>"
      ]
     },
     "metadata": {
      "needs_background": "light"
     },
     "output_type": "display_data"
    }
   ],
   "source": [
    "etiqueta = list(range(len(carriles['carril2'])))\n",
    "valores = carriles['carril2']\n",
    "\n",
    "plt.bar(etiqueta, valores, align=\"center\", tick_label=etiqueta)\n",
    "\n",
    "plt.title(\"# Vehiculos en el carril 2\")\n",
    "plt.xlabel(\"Dia\")\n",
    "plt.ylabel(\"Nro. Vehiculos\")\n",
    "plt.show()"
   ]
  },
  {
   "cell_type": "code",
   "execution_count": 15,
   "metadata": {},
   "outputs": [
    {
     "data": {
      "image/png": "[encoded data removed]",
      "text/plain": [
       "<Figure size 432x288 with 1 Axes>"
      ]
     },
     "metadata": {
      "needs_background": "light"
     },
     "output_type": "display_data"
    }
   ],
   "source": [
    "etiqueta = list(range(len(carriles['carril3'])))\n",
    "valores = carriles['carril3']\n",
    "\n",
    "plt.bar(etiqueta, valores, align=\"center\", tick_label=etiqueta)\n",
    "\n",
    "plt.title(\"# Vehiculos en el carril 3\")\n",
    "plt.xlabel(\"Dia\")\n",
    "plt.ylabel(\"Nro. Vehiculos\")\n",
    "plt.show()"
   ]
  },
  {
   "cell_type": "markdown",
   "metadata": {},
   "source": [
    "### Gráfica de vehículos aprobados y no aprobados"
   ]
  },
  {
   "cell_type": "code",
   "execution_count": 16,
   "metadata": {},
   "outputs": [
    {
     "data": {
      "image/png": "[encoded data removed]",
      "text/plain": [
       "<Figure size 432x288 with 1 Axes>"
      ]
     },
     "metadata": {},
     "output_type": "display_data"
    }
   ],
   "source": [
    "plt.figure()\n",
    "\n",
    "etiquetas = ['aprobados', 'no aprobados']\n",
    "plt.pie([len(total_aprobados), len(total_no_aprobados)], labels=etiquetas, autopct='%.2f %%')\n",
    "plt.show()"
   ]
  },
  {
   "cell_type": "markdown",
   "metadata": {},
   "source": [
    "### Gráfica de tiempos de proceso por dia"
   ]
  },
  {
   "cell_type": "code",
   "execution_count": 17,
   "metadata": {},
   "outputs": [
    {
     "data": {
      "image/png": "[encoded data removed]",
      "text/plain": [
       "<Figure size 432x288 with 1 Axes>"
      ]
     },
     "metadata": {
      "needs_background": "light"
     },
     "output_type": "display_data"
    }
   ],
   "source": [
    "etiqueta = list(range(len(tiempos_acum)))\n",
    "valores = tiempos_acum\n",
    "\n",
    "plt.bar(etiqueta, valores, align=\"center\", tick_label=etiqueta)\n",
    "\n",
    "plt.title(\"Tiempos de proceso por dia\")\n",
    "plt.xlabel(\"Dia\")\n",
    "plt.ylabel(\"Tiempo empleado\")\n",
    "plt.show()"
   ]
  },
  {
   "cell_type": "code",
   "execution_count": null,
   "metadata": {},
   "outputs": [],
   "source": []
  }
 ],
 "metadata": {
  "interpreter": {
   "hash": "31f2aee4e71d21fbe5cf8b01ff0e069b9275f58929596ceb00d14d90e3e16cd6"
  },
  "kernelspec": {
   "display_name": "Python 3.10.4 64-bit",
   "language": "python",
   "name": "python3"
  },
  "language_info": {
   "codemirror_mode": {
    "name": "ipython",
    "version": 3
   },
   "file_extension": ".py",
   "mimetype": "text/x-python",
   "name": "python",
   "nbconvert_exporter": "python",
   "pygments_lexer": "ipython3",
   "version": "3.10.4"
  },
  "orig_nbformat": 4
 },
 "nbformat": 4,
 "nbformat_minor": 2
}
