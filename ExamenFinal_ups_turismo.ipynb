{
 "cells": [
  {
   "cell_type": "markdown",
   "metadata": {},
   "source": [
    "## Examen Final Simulación - UPS Turismo\n",
    "#### Por: Robbyn Reyes"
   ]
  },
  {
   "cell_type": "code",
   "execution_count": 1,
   "metadata": {},
   "outputs": [],
   "source": [
    "## se importan las librerias \n",
    "import collections\n",
    "import simpy\n",
    "import random\n",
    "import matplotlib.pyplot as plt\n",
    "import numpy as np\n",
    "\n",
    "from scipy import stats "
   ]
  },
  {
   "cell_type": "code",
   "execution_count": 2,
   "metadata": {},
   "outputs": [
    {
     "name": "stdout",
     "output_type": "stream",
     "text": [
      "UPS - Turismo\n",
      "el  bus1 con destino Quito llego a las  [223.01753266] a su destino\n",
      "el  bus2 con destino Salinas llego a las  [277.97601527] a su destino\n",
      "el  bus5 con destino Santa Elena llego a las  [290.06468055] a su destino\n",
      "el  bus1 con destino Quito regreso a las  [374.99484947]\n",
      "el  bus4 con destino Quito llego a las  [420.14569532] a su destino\n",
      "el  bus5 con destino Santa Elena regreso a las  [425.50004775]\n",
      "el  bus2 con destino Salinas regreso a las  [467.54046408]\n",
      "el  bus4 con destino Quito regreso a las  [709.91524261]\n",
      "el  bus2 con destino Riobamba llego a las  [823.43877536] a su destino\n",
      "el  bus3 con destino Guayaquil llego a las  [880.78623269] a su destino\n",
      "el  bus1 con destino Riobamba llego a las  [885.19713924] a su destino\n",
      "el  bus5 con destino Riobamba llego a las  [1028.54938085] a su destino\n",
      "el  bus2 con destino Riobamba regreso a las  [1179.33708665]\n",
      "el  bus2 con destino Guayaquil llego a las  [1372.06754798] a su destino\n",
      "el  bus1 con destino Riobamba regreso a las  [1395.39942901]\n",
      "el  bus2 con destino Guayaquil regreso a las  [1564.79800931]\n",
      "el  bus5 con destino Riobamba regreso a las  [1631.59871396]\n",
      "el  bus4 con destino Guayaquil llego a las  [1644.03435638] a su destino\n",
      "el  bus3 con destino Guayaquil regreso a las  [1652.98325843]\n",
      "el  bus1 con destino Guayaquil llego a las  [1926.63588418] a su destino\n",
      "el  bus5 con destino Cuenca llego a las  [2117.60600482] a su destino\n",
      "el  bus2 con destino Guayaquil llego a las  [2134.58821149] a su destino\n",
      "el  bus3 con destino Cuenca llego a las  [2193.16680144] a su destino\n",
      "el  bus1 con destino Guayaquil regreso a las  [2457.87233935]\n",
      "el  bus4 con destino Guayaquil regreso a las  [2578.15347015]\n",
      "el  bus5 con destino Cuenca regreso a las  [2603.61329569]\n",
      "el  bus2 con destino Guayaquil regreso a las  [2704.37841367]\n",
      "el  bus3 con destino Cuenca regreso a las  [2733.35034445]\n",
      "el  bus1 con destino Cuenca llego a las  [2967.20598732] a su destino\n",
      "el  bus3 con destino Quito llego a las  [2994.9271681] a su destino\n",
      "el  bus4 con destino Santa Elena llego a las  [3119.03021133] a su destino\n",
      "el  bus5 con destino Cuenca llego a las  [3201.40006943] a su destino\n",
      "el  bus3 con destino Quito regreso a las  [3256.50399176]\n",
      "el  bus1 con destino Cuenca regreso a las  [3476.5396353]\n",
      "el  bus2 con destino Salinas llego a las  [3525.47118208] a su destino\n",
      "el  bus3 con destino Quito llego a las  [3594.47261335] a su destino\n",
      "el  bus4 con destino Santa Elena regreso a las  [3659.9069525]\n",
      "el  bus5 con destino Cuenca regreso a las  [3799.18684317]\n",
      "el  bus1 con destino Santa Elena llego a las  [3884.53910187] a su destino\n",
      "el  bus3 con destino Quito regreso a las  [3932.44123493]\n",
      "el  bus4 con destino Salinas llego a las  [4132.39970844] a su destino\n",
      "el  bus3 con destino Riobamba llego a las  [4136.98843054] a su destino\n",
      "el  bus1 con destino Santa Elena regreso a las  [4292.53856845]\n",
      "el  bus3 con destino Riobamba regreso a las  [4341.53562615]\n",
      "el  bus2 con destino Salinas regreso a las  [4346.56395049]\n",
      "el  bus5 con destino Salinas llego a las  [4420.25244734] a su destino\n",
      "el  bus1 con destino Riobamba llego a las  [4538.95975996] a su destino\n",
      "el  bus4 con destino Salinas regreso a las  [4604.89246439]\n",
      "el  bus3 con destino Salinas llego a las  [4617.65663612] a su destino\n",
      "el  bus4 con destino Guayaquil llego a las  [4760.02753183] a su destino\n",
      "el  bus2 con destino Salinas llego a las  [4784.21948784] a su destino\n",
      "el  bus1 con destino Riobamba regreso a las  [4785.38095148]\n",
      "el  bus3 con destino Salinas regreso a las  [4893.77764609]\n",
      "el  bus4 con destino Guayaquil regreso a las  [4915.16259928]\n",
      "el  bus1 con destino Guayaquil llego a las  [4958.0996586] a su destino\n",
      "el  bus5 con destino Salinas regreso a las  [5041.31805152]\n",
      "el  bus1 con destino Guayaquil regreso a las  [5130.81836571]\n",
      "el  bus3 con destino Guayaquil llego a las  [5170.0786577] a su destino\n",
      "el  bus2 con destino Salinas regreso a las  [5216.61436498]\n",
      "el  bus5 con destino Cuenca llego a las  [5378.73857329] a su destino\n",
      "el  bus1 con destino Cuenca llego a las  [5381.24469311] a su destino\n",
      "el  bus4 con destino Guayaquil llego a las  [5428.78085816] a su destino\n",
      "el  bus3 con destino Guayaquil regreso a las  [5446.3796693]\n",
      "el  bus2 con destino Quito llego a las  [5500.95567582] a su destino\n",
      "el  bus1 con destino Cuenca regreso a las  [5631.6710205]\n",
      "el  bus5 con destino Cuenca regreso a las  [5716.15909507]\n",
      "el  bus3 con destino Quito llego a las  [5741.05767133] a su destino\n",
      "el  bus2 con destino Quito regreso a las  [5785.29698667]\n",
      "el  bus4 con destino Guayaquil regreso a las  [5942.39911703]\n",
      "el  bus4 con destino Riobamba llego a las  [5946.84093628] a su destino\n",
      "el  bus4 con destino Riobamba regreso a las  [5951.28275554]\n",
      "el  bus3 con destino Quito regreso a las  [6035.73567336]\n",
      "el  bus1 con destino Cuenca llego a las  [6082.24712464] a su destino\n",
      "el  bus3 con destino Santa Elena llego a las  [6142.44021952] a su destino\n",
      "el  bus5 con destino Quito llego a las  [6210.38242128] a su destino\n",
      "el  bus3 con destino Santa Elena regreso a las  [6249.14476568]\n",
      "el  bus2 con destino Quito llego a las  [6279.70494152] a su destino\n",
      "el  bus4 con destino Riobamba llego a las  [6450.35835568] a su destino\n",
      "el  bus1 con destino Cuenca regreso a las  [6532.82322878]\n",
      "el  bus1 con destino Salinas llego a las  [6608.8336648] a su destino\n",
      "el  bus1 con destino Salinas regreso a las  [6684.84410081]\n",
      "el  bus5 con destino Quito regreso a las  [6704.60574749]\n",
      "el  bus2 con destino Quito regreso a las  [6774.11289637]\n",
      "el  bus5 con destino Riobamba llego a las  [6877.81917222] a su destino\n",
      "el  bus1 con destino Salinas llego a las  [6898.18057865] a su destino\n",
      "el  bus4 con destino Riobamba regreso a las  [6949.13774529]\n",
      "el  bus5 con destino Riobamba regreso a las  [7051.03259696]\n",
      "el  bus2 con destino Riobamba llego a las  [7094.60815621] a su destino\n",
      "el  bus3 con destino Santa Elena llego a las  [7104.63646071] a su destino\n",
      "el  bus1 con destino Salinas regreso a las  [7111.51705649]\n",
      "el  bus2 con destino Riobamba regreso a las  [7415.10341605]\n",
      "el  bus1 con destino Santa Elena llego a las  [7486.18959571] a su destino\n",
      "el  bus5 con destino Guayaquil llego a las  [7545.69529766] a su destino\n",
      "el  bus4 con destino Guayaquil llego a las  [7597.89509647] a su destino\n",
      "el  bus2 con destino Guayaquil llego a las  [7659.81816624] a su destino\n",
      "el  bus1 con destino Santa Elena regreso a las  [7860.86213493]\n",
      "el  bus2 con destino Guayaquil regreso a las  [7904.53291643]\n",
      "el  bus3 con destino Santa Elena regreso a las  [7960.12815573]\n",
      "el  bus5 con destino Guayaquil regreso a las  [8040.35799836]\n",
      "el  bus3 con destino Cuenca llego a las  [8142.17573917] a su destino\n",
      "el  bus4 con destino Guayaquil regreso a las  [8246.65244766]\n",
      "el  bus5 con destino Quito llego a las  [8270.04522193] a su destino\n",
      "el  bus3 con destino Cuenca regreso a las  [8324.2233226]\n",
      "el  bus2 con destino Guayaquil llego a las  [8338.51564135] a su destino\n",
      "el  bus1 con destino Guayaquil llego a las  [8342.80214287] a su destino\n",
      "el  bus5 con destino Quito regreso a las  [8499.73244549]\n",
      "el  bus4 con destino Quito llego a las  [8633.99926078] a su destino\n",
      "el  bus3 con destino Quito llego a las  [8710.76480265] a su destino\n",
      "el  bus2 con destino Guayaquil regreso a las  [8772.49836627]\n",
      "el  bus1 con destino Guayaquil regreso a las  [8824.74215081]\n",
      "el  bus2 con destino Salinas llego a las  [8962.7625574] a su destino\n",
      "el  bus4 con destino Quito regreso a las  [9021.3460739]\n",
      "el  bus3 con destino Quito regreso a las  [9097.3062827]\n",
      "el  bus2 con destino Salinas regreso a las  [9153.02674852]\n",
      "el  bus5 con destino Quito llego a las  [9233.23769136] a su destino\n",
      "el  bus2 con destino Riobamba llego a las  [9301.64533327] a su destino\n",
      "el  bus1 con destino Salinas llego a las  [9326.41066643] a su destino\n",
      "el  bus2 con destino Riobamba regreso a las  [9450.26391802]\n",
      "el  bus4 con destino Riobamba llego a las  [9555.48775776] a su destino\n",
      "el  bus1 con destino Salinas regreso a las  [9828.07918204]\n",
      "el  bus3 con destino Salinas llego a las  [9853.89846151] a su destino\n",
      "el  bus5 con destino Quito regreso a las  [9966.74293723]\n"
     ]
    }
   ],
   "source": [
    "## Lugares de mayor afluencia\n",
    "## 1. Guayaquil\n",
    "## 2. Quito\n",
    "## 3. Riobamba\n",
    "## 4. Cuenca\n",
    "## 5. Salinas\n",
    "## 6. Santa Elena\n",
    "\n",
    "VELOCIDAD_LLEGADA = 20\n",
    "NUM_BOLETO = 40\n",
    "TIEMPO_SIMULACION = 7*24*60\n",
    "\n",
    "boletos_lugares = {}\n",
    "nBus = [0,0,0,0,0]\n",
    "\n",
    "aux = 0\n",
    "aux2 = 0\n",
    "ventas = 0\n",
    "ventasPorDia = []\n",
    "\n",
    "lugaresDestino = {'Guayaquil':0, 'Quito':0, 'Riobamba':0, 'Cuenca':0, 'Salinas':0, 'Santa Elena':0}\n",
    "lugaresOrigen = {'Guayaquil':0, 'Quito':0, 'Riobamba':0, 'Cuenca':0, 'Salinas':0, 'Santa Elena':0}\n",
    "\n",
    "bus1 = {'1':0,'2':0,'3':0,'4':0,'5':0,'6':0,'7':0}\n",
    "bus2 = {'1':0,'2':0,'3':0,'4':0,'5':0,'6':0,'7':0}\n",
    "bus3 = {'1':0,'2':0,'3':0,'4':0,'5':0,'6':0,'7':0}\n",
    "bus4 = {'1':0,'2':0,'3':0,'4':0,'5':0,'6':0,'7':0}\n",
    "bus5 = {'1':0,'2':0,'3':0,'4':0,'5':0,'6':0,'7':0}\n",
    "\n",
    "def subida_al_bus(env, nbus, pasajeros, dia):\n",
    "  global nBus\n",
    "  global bus1\n",
    "  global bus2\n",
    "  global bus3\n",
    "  global bus4\n",
    "  global bus5\n",
    "\n",
    "  with buses.request() as bus:\n",
    "    yield bus\n",
    "    nB = 0\n",
    "\n",
    "    for i in range(len(nBus)):\n",
    "        if nBus[i] == 0:\n",
    "            nB = i+1\n",
    "            nBus[i] = str(bus)\n",
    "            a = 'bus'+str(nB)\n",
    "            break\n",
    "          \n",
    "    if nB == 1:\n",
    "      bus1[dia] += pasajeros\n",
    "\n",
    "    elif nB == 2:\n",
    "      bus2[dia] += pasajeros\n",
    "      \n",
    "    elif nB == 3:\n",
    "      bus3[dia] += pasajeros\n",
    "\n",
    "    elif nB == 4:\n",
    "      bus4[dia] += pasajeros\n",
    "\n",
    "    elif nB == 5:\n",
    "      bus5[dia] += pasajeros\n",
    "\n",
    "    nbus = nbus.replace('bus',a)\n",
    "    yield env.process(viaje(env, nbus))\n",
    "    nBus[nB-1] = 0\n",
    "    \n",
    "\n",
    "def viaje(env, bus):\n",
    "    while True:\n",
    "        mu, sigma = 6*60, 4*60\n",
    "        normal = stats.norm(mu, sigma)  \n",
    "        aleatorios = normal.rvs(1) \n",
    "\n",
    "        if aleatorios >= 0:\n",
    "            break\n",
    "\n",
    "    yield env.timeout(aleatorios)\n",
    "    print('el ', bus, 'llego a las ', env.now, 'a su destino')\n",
    "\n",
    "    yield env.timeout(aleatorios)\n",
    "    print('el ', bus, 'regreso a las ', env.now)\n",
    "\n",
    "def viaje_antes(env,bus, pasajeros):\n",
    "  print('el bus salio antes')\n",
    "  subida_al_bus(env, bus, pasajeros)\n",
    "\n",
    "def ventaBoletos(env, num_boletos, lugar, lugar2,buses):\n",
    "  global aux\n",
    "  global aux2\n",
    "  global ventas\n",
    "  global ventasPorDia\n",
    "  global lugaresDestino\n",
    "  global lugaresOrigen\n",
    "\n",
    "  with buses.contador.request() as asiento:\n",
    "      resultado = yield asiento | agencia.sold_out[lugar]\n",
    "\n",
    "      if asiento not in resultado:\n",
    "        agencia.num_renegados[lugar] += 1\n",
    "        return\n",
    "\n",
    "      if agencia.num_boletos[lugar] < num_boletos:\n",
    "        return\n",
    "\n",
    "      else:\n",
    "        lugaresDestino[lugar] += num_boletos\n",
    "        lugaresOrigen[lugar2] += num_boletos\n",
    "        aleatorios = 0\n",
    "\n",
    "        while True:\n",
    "          mu, sigma = 10, 2 # media y desvio estandar\n",
    "          normal = stats.norm(mu, sigma)  \n",
    "          aleatorios = normal.rvs(1)\n",
    "\n",
    "          if aleatorios>=0:\n",
    "              break\n",
    "        yield env.timeout(aleatorios) \n",
    "\n",
    "        if lugar in list(boletos_lugares.keys()):\n",
    "          a = boletos_lugares.get(lugar)\n",
    "          a.append(num_boletos)\n",
    "          boletos_lugares[lugar] = a\n",
    "\n",
    "        else:\n",
    "          boletos_lugares[lugar] = [num_boletos]\n",
    "      agencia.num_boletos[lugar] -= num_boletos\n",
    "\n",
    "      ro2 = env.now/1440\n",
    "      ro2 = np.trunc(ro2)\n",
    "\n",
    "      if ro2 != aux2:\n",
    "        ventasPorDia.append(ventas)\n",
    "        ventas = 0\n",
    "        aux2 = ro2\n",
    "\n",
    "      if agencia.num_boletos[lugar] < 2:\n",
    "        bus='bus con destino ' + lugar\n",
    "        yield env.process(subida_al_bus(env,bus, 40, str(int(ro2[0])+1)))\n",
    "\n",
    "        agencia.sold_out[lugar].succeed()\n",
    "        agencia.tiempo_agotado[lugar] = env.now\n",
    "        z = buses.num_boletos\n",
    "        z[lugar] = 40\n",
    "        buses.num_boletos[lugar] = 40\n",
    "        buses.sold_out[lugar] = env.event()\n",
    "        ventas += 40\n",
    "\n",
    "      ro = env.now/60\n",
    "      ro = np.trunc(ro)\n",
    "\n",
    "      if ro != aux:\n",
    "        bus = 'bus con destino '+lugar\n",
    "        n = 40-agencia.num_boletos[lugar]\n",
    "        ventas += n\n",
    "        yield env.process(subida_al_bus(env,bus, n,str(int(ro2[0])+1)))\n",
    "\n",
    "        agencia.sold_out[lugar].succeed()\n",
    "        agencia.tiempo_agotado[lugar] = env.now\n",
    "        z = buses.num_boletos\n",
    "        z[lugar] = 40\n",
    "        buses.num_boletos[lugar] = 40\n",
    "        buses.sold_out[lugar] = env.event()\n",
    "        aux = ro\n",
    "\n",
    "def llegadaClientes(env, turismo, VELOCIDAD_LLEGADA):\n",
    "  while True:\n",
    "    yield env.timeout(VELOCIDAD_LLEGADA)\n",
    "    bernoulli = stats.bernoulli(0.5)\n",
    "    pGenero = bernoulli.rvs(1) \n",
    "    genero = ''\n",
    "\n",
    "    if pGenero == 1:\n",
    "        genero='masculino'\n",
    "    else:\n",
    "        genero='femenino'\n",
    "    \n",
    "    edad = 0\n",
    "\n",
    "    while True:\n",
    "        mu = 20 # parametro de forma \n",
    "        poisson = stats.poisson(mu) \n",
    "        edad = poisson.rvs(1)\n",
    "        if edad >= 18:\n",
    "            break\n",
    "    \n",
    "    lugar_o = random.choices(turismo.lugares, turismo.probabilidad, k=1)\n",
    "    lugar_d = random.choices(turismo.lugares, turismo.probabilidad, k=1)\n",
    "\n",
    "    num_boletos = random.randint(1, 6)\n",
    "    env.process(ventaBoletos(env, num_boletos, lugar_o[0],lugar_d[0], turismo))\n",
    "\n",
    "Agencia = collections.namedtuple('Turismo', 'contador, lugares, probabilidad, num_boletos, sold_out, tiempo_agotado, num_renegados')\n",
    "\n",
    "print('UPS - Turismo')\n",
    "env = simpy.Environment()\n",
    "\n",
    "contador = simpy.Resource(env,capacity=6)\n",
    "buses = simpy.Resource(env, 5)\n",
    "\n",
    "lugares = ['Guayaquil', 'Quito', 'Riobamba', 'Cuenca', 'Salinas', 'Santa Elena']\n",
    "probabilidad = [0.6,0.5,0.4,0.3,0.2,0.1]\n",
    "num_boletos = {lugar: NUM_BOLETO for lugar in lugares}\n",
    "sold_out = {lugar: env.event() for lugar in lugares}\n",
    "tiempo_agotado = {lugar: None for lugar in lugares}\n",
    "num_renegados = {lugar: 0 for lugar in lugares}\n",
    "\n",
    "agencia = Agencia(contador, lugares, probabilidad, num_boletos, sold_out, tiempo_agotado, num_renegados)\n",
    "env.process(llegadaClientes(env, agencia, VELOCIDAD_LLEGADA))\n",
    "env.run(until=TIEMPO_SIMULACION)"
   ]
  },
  {
   "cell_type": "markdown",
   "metadata": {},
   "source": [
    "### Venta de tickets"
   ]
  },
  {
   "cell_type": "code",
   "execution_count": 3,
   "metadata": {},
   "outputs": [
    {
     "data": {
      "image/png": "[encoded data removed]",
      "text/plain": [
       "<Figure size 1080x432 with 1 Axes>"
      ]
     },
     "metadata": {
      "needs_background": "light"
     },
     "output_type": "display_data"
    }
   ],
   "source": [
    "def add_value_label(x_list,y_list):\n",
    "    for i in range(1, len(x_list)+1):\n",
    "        plt.text(i,y_list[i-1]/2,y_list[i-1], ha=\"center\")\n",
    "\n",
    "eje_x = list(range(1,len(ventasPorDia)+1))\n",
    "eje_y = ventasPorDia\n",
    "\n",
    "plt.figure(figsize=(15, 6))\n",
    "plt.bar(eje_x, eje_y)\n",
    "add_value_label(eje_x, eje_y)\n",
    "\n",
    "plt.title('Venta de tickes por dia')\n",
    "plt.ylabel('# de ventas')\n",
    "plt.xlabel('Dia')\n",
    "plt.show()"
   ]
  },
  {
   "cell_type": "markdown",
   "metadata": {},
   "source": [
    "### Personas que se quedaron sin tickets"
   ]
  },
  {
   "cell_type": "code",
   "execution_count": 4,
   "metadata": {},
   "outputs": [
    {
     "data": {
      "image/png": "[encoded data removed]",
      "text/plain": [
       "<Figure size 1080x432 with 1 Axes>"
      ]
     },
     "metadata": {
      "needs_background": "light"
     },
     "output_type": "display_data"
    }
   ],
   "source": [
    "def add_value_label(x_list,y_list):\n",
    "    for i in range(0, len(x_list)):\n",
    "        plt.text(i,y_list[i]/2,y_list[i], ha=\"center\")\n",
    "        \n",
    "eje_x = list(agencia.num_renegados.keys())\n",
    "eje_y = list(agencia.num_renegados.values())\n",
    "\n",
    "plt.figure(figsize=(15, 6))\n",
    "plt.bar(eje_x, eje_y)\n",
    "add_value_label(eje_x, eje_y)\n",
    "\n",
    "plt.title('Personas que se quedaron sin comprar')\n",
    "plt.ylabel('# de personas')\n",
    "plt.xlabel('Destinos')\n",
    "plt.ylim([0, 140])\n",
    "plt.show()"
   ]
  },
  {
   "cell_type": "markdown",
   "metadata": {},
   "source": [
    "### Lugares de origen y destino mas visitados"
   ]
  },
  {
   "cell_type": "code",
   "execution_count": 5,
   "metadata": {},
   "outputs": [
    {
     "data": {
      "image/png": "[encoded data removed]",
      "text/plain": [
       "<Figure size 1080x432 with 1 Axes>"
      ]
     },
     "metadata": {
      "needs_background": "light"
     },
     "output_type": "display_data"
    }
   ],
   "source": [
    "def add_value_label(x_list,y_list):\n",
    "    for i in range(0, len(x_list)):\n",
    "        plt.text(i,y_list[i]/2,y_list[i], ha=\"center\")\n",
    "        \n",
    "eje_x = list(lugaresOrigen.keys())\n",
    "eje_y = list(lugaresOrigen.values())\n",
    "\n",
    "plt.figure(figsize=(15, 6))\n",
    "plt.bar(eje_x, eje_y)\n",
    "add_value_label(eje_x, eje_y)\n",
    "\n",
    "plt.title('Lugares de Origen mas visitados')\n",
    "plt.ylabel('# de compradores')\n",
    "plt.xlabel('Ciudad Origen')\n",
    "plt.show()"
   ]
  },
  {
   "cell_type": "code",
   "execution_count": 6,
   "metadata": {},
   "outputs": [
    {
     "data": {
      "image/png": "[encoded data removed]",
      "text/plain": [
       "<Figure size 1080x432 with 1 Axes>"
      ]
     },
     "metadata": {
      "needs_background": "light"
     },
     "output_type": "display_data"
    }
   ],
   "source": [
    "def add_value_label(x_list,y_list):\n",
    "    for i in range(0, len(x_list)):\n",
    "        plt.text(i,y_list[i]/2,y_list[i], ha=\"center\")\n",
    "        \n",
    "eje_x = list(lugaresDestino.keys())\n",
    "eje_y = list(lugaresDestino.values())\n",
    "\n",
    "plt.figure(figsize=(15, 6))\n",
    "plt.bar(eje_x, eje_y)\n",
    "add_value_label(eje_x, eje_y)\n",
    "\n",
    "plt.title('Lugares de Destino mas visitados')\n",
    "plt.ylabel('# de compradores')\n",
    "plt.xlabel('Ciudad Destino')\n",
    "plt.show()"
   ]
  },
  {
   "cell_type": "markdown",
   "metadata": {},
   "source": [
    "### Numero de buses y uso diario"
   ]
  },
  {
   "cell_type": "code",
   "execution_count": 7,
   "metadata": {},
   "outputs": [
    {
     "data": {
      "image/png": "[encoded data removed]",
      "text/plain": [
       "<Figure size 1080x432 with 1 Axes>"
      ]
     },
     "metadata": {
      "needs_background": "light"
     },
     "output_type": "display_data"
    }
   ],
   "source": [
    "def add_value_label(x_list,y_list):\n",
    "    for i in range(0, len(x_list)):\n",
    "        plt.text(i,y_list[i]/2,y_list[i], ha=\"center\")\n",
    "        \n",
    "## Bus 1\n",
    "eje_x = list(bus1.keys())\n",
    "eje_y = list(bus1.values())\n",
    "\n",
    "plt.figure(figsize=(15, 6))\n",
    "plt.bar(eje_x, eje_y)\n",
    "add_value_label(eje_x, eje_y)\n",
    "\n",
    "plt.title('Uso de Bus 1')\n",
    "plt.ylabel('# de Pasajeros')\n",
    "plt.xlabel('Dia')\n",
    "plt.show()"
   ]
  },
  {
   "cell_type": "code",
   "execution_count": 8,
   "metadata": {},
   "outputs": [
    {
     "data": {
      "image/png": "[encoded data removed]",
      "text/plain": [
       "<Figure size 1080x432 with 1 Axes>"
      ]
     },
     "metadata": {
      "needs_background": "light"
     },
     "output_type": "display_data"
    }
   ],
   "source": [
    "def add_value_label(x_list,y_list):\n",
    "    for i in range(0, len(x_list)):\n",
    "        plt.text(i,y_list[i]/2,y_list[i], ha=\"center\")\n",
    "        \n",
    "## Bus 2\n",
    "eje_x = list(bus2.keys())\n",
    "eje_y = list(bus2.values())\n",
    "\n",
    "plt.figure(figsize=(15, 6))\n",
    "plt.bar(eje_x, eje_y)\n",
    "add_value_label(eje_x, eje_y)\n",
    "\n",
    "plt.title('Uso de Bus 2')\n",
    "plt.ylabel('# de Pasajeros')\n",
    "plt.xlabel('Dia')\n",
    "plt.show()"
   ]
  },
  {
   "cell_type": "code",
   "execution_count": 9,
   "metadata": {},
   "outputs": [
    {
     "data": {
      "image/png": "[encoded data removed]",
      "text/plain": [
       "<Figure size 1080x432 with 1 Axes>"
      ]
     },
     "metadata": {
      "needs_background": "light"
     },
     "output_type": "display_data"
    }
   ],
   "source": [
    "def add_value_label(x_list,y_list):\n",
    "    for i in range(0, len(x_list)):\n",
    "        plt.text(i,y_list[i]/2,y_list[i], ha=\"center\")\n",
    "        \n",
    "## Bus 3\n",
    "eje_x = list(bus3.keys())\n",
    "eje_y = list(bus3.values())\n",
    "\n",
    "plt.figure(figsize=(15, 6))\n",
    "plt.bar(eje_x, eje_y)\n",
    "add_value_label(eje_x, eje_y)\n",
    "\n",
    "plt.title('Uso de Bus 3')\n",
    "plt.ylabel('# de Pasajeros')\n",
    "plt.xlabel('Dia')\n",
    "plt.show()"
   ]
  },
  {
   "cell_type": "code",
   "execution_count": 10,
   "metadata": {},
   "outputs": [
    {
     "data": {
      "image/png": "[encoded data removed]",
      "text/plain": [
       "<Figure size 1080x432 with 1 Axes>"
      ]
     },
     "metadata": {
      "needs_background": "light"
     },
     "output_type": "display_data"
    }
   ],
   "source": [
    "def add_value_label(x_list,y_list):\n",
    "    for i in range(0, len(x_list)):\n",
    "        plt.text(i,y_list[i]/2,y_list[i], ha=\"center\")\n",
    "        \n",
    "## Bus 4\n",
    "eje_x = list(bus4.keys())\n",
    "eje_y = list(bus4.values())\n",
    "\n",
    "plt.figure(figsize=(15, 6))\n",
    "plt.bar(eje_x, eje_y)\n",
    "add_value_label(eje_x, eje_y)\n",
    "\n",
    "plt.title('Uso de Bus 4')\n",
    "plt.ylabel('# de Pasajeros')\n",
    "plt.xlabel('Dia')\n",
    "plt.show()"
   ]
  },
  {
   "cell_type": "code",
   "execution_count": 11,
   "metadata": {},
   "outputs": [
    {
     "data": {
      "image/png": "[encoded data removed]",
      "text/plain": [
       "<Figure size 1080x432 with 1 Axes>"
      ]
     },
     "metadata": {
      "needs_background": "light"
     },
     "output_type": "display_data"
    }
   ],
   "source": [
    "def add_value_label(x_list,y_list):\n",
    "    for i in range(0, len(x_list)):\n",
    "        plt.text(i,y_list[i]/2,y_list[i], ha=\"center\")\n",
    "        \n",
    "## Bus 5\n",
    "eje_x = list(bus5.keys())\n",
    "eje_y = list(bus5.values())\n",
    "\n",
    "plt.figure(figsize=(15, 6))\n",
    "plt.bar(eje_x, eje_y)\n",
    "add_value_label(eje_x, eje_y)\n",
    "\n",
    "plt.title('Uso de Bus 5')\n",
    "plt.ylabel('# de Pasajeros')\n",
    "plt.xlabel('Dia')\n",
    "plt.show()"
   ]
  },
  {
   "cell_type": "markdown",
   "metadata": {},
   "source": []
  }
 ],
 "metadata": {
  "interpreter": {
   "hash": "31f2aee4e71d21fbe5cf8b01ff0e069b9275f58929596ceb00d14d90e3e16cd6"
  },
  "kernelspec": {
   "display_name": "Python 3.10.4 64-bit",
   "language": "python",
   "name": "python3"
  },
  "language_info": {
   "codemirror_mode": {
    "name": "ipython",
    "version": 3
   },
   "file_extension": ".py",
   "mimetype": "text/x-python",
   "name": "python",
   "nbconvert_exporter": "python",
   "pygments_lexer": "ipython3",
   "version": "3.10.4"
  },
  "orig_nbformat": 4
 },
 "nbformat": 4,
 "nbformat_minor": 2
}
