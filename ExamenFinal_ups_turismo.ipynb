{
 "cells": [
  {
   "cell_type": "markdown",
   "metadata": {},
   "source": [
    "## Examen Final Simulación - UPS Turismo\n",
    "#### Por: Robbyn Reyes"
   ]
  },
  {
   "cell_type": "code",
   "execution_count": 1,
   "metadata": {},
   "outputs": [],
   "source": [
    "## se importan las librerias \n",
    "import collections\n",
    "import simpy\n",
    "import random\n",
    "import matplotlib.pyplot as plt\n",
    "import numpy as np\n",
    "\n",
    "from scipy import stats "
   ]
  },
  {
   "cell_type": "code",
   "execution_count": 2,
   "metadata": {},
   "outputs": [],
   "source": [
    "## Lugares de mayor afluencia\n",
    "## 1. Guayaquil\n",
    "## 2. Quito\n",
    "## 3. Riobamba\n",
    "## 4. Cuenca\n",
    "## 5. Salinas\n",
    "## 6. Santa Elena\n",
    "\n",
    "FLOTA_BUSES = 5\n",
    "N_PASAJEROS = 40 ##por bus\n",
    "\n",
    "TIEMPO_SIMULACION = 10080  ##7 dias\n",
    "\n",
    "total_ocupado = 0\n",
    "total_tickes_vendidos = 0\n",
    "personas_sin_comprar = 0"
   ]
  },
  {
   "cell_type": "code",
   "execution_count": 3,
   "metadata": {},
   "outputs": [],
   "source": [
    "def comprar_ticket():\n",
    "    return random.normalvariate(10, 2)\n",
    "\n",
    "def generar_sexo():\n",
    "    bernoulli = stats.bernoulli(0.5)\n",
    "    genero = bernoulli.rvs(1) ## 1-Hombre, 2-Mujer\n",
    "\n",
    "    return genero\n",
    "\n",
    "##Adultos(27-60 años)\n",
    "def generar_edad():\n",
    "    poisson = stats.poisson(43)\n",
    "    edad = poisson.rvs(1)\n",
    "\n",
    "    return edad\n",
    "\n",
    "#def escoger_destino():\n",
    "#    return np.random.choice([1,2,3,4,5,6], p=[,,,,,]) #1 completa revision - 2 no completa revision"
   ]
  },
  {
   "cell_type": "code",
   "execution_count": 4,
   "metadata": {},
   "outputs": [],
   "source": [
    "def venta_tickets(env, num_boletos, ruta, agencia):\n",
    "\n",
    "\n",
    "def llegada_turistas(env, agencia):\n",
    "    while True:\n",
    "        yield env.timeout(random.expovariate(1/0.5))\n",
    "        ruta = random.choices(agencia.rutas, agencia.probabilidad, k=1)\n",
    "        num_boletos = random.randint(1,6)\n",
    "\n",
    "        env.process(venta_tickets(env, num_boletos, ruta))\n",
    "\n",
    "\n",
    "UPS_Turismo = collections.namedtuple('UPS-Turismo', 'contador, rutas, probabilidad')\n",
    "\n",
    "print('Turismo UPS')\n",
    "env = simpy.Environment()\n",
    "\n",
    "contador = simpy.Resource(env, capacity=1)\n",
    "rutas = ['Guayaquil-Quito', 'Quito-Riobamba', 'Riobamba-Cuenca', 'Cuenca-Salinas', 'Salinas-Santa Elena']\n",
    "probabilidad = [0.3, 0.25, 0.2, 0.15, 0.1]\n",
    "\n",
    "agencia = UPS_Turismo(contador, rutas, probabilidad)\n",
    "env.process(llegada_turistas(env, agencia))\n",
    "env.run(until=TIEMPO_SIMULACION)"
   ]
  },
  {
   "cell_type": "code",
   "execution_count": null,
   "metadata": {},
   "outputs": [],
   "source": []
  }
 ],
 "metadata": {
  "interpreter": {
   "hash": "31f2aee4e71d21fbe5cf8b01ff0e069b9275f58929596ceb00d14d90e3e16cd6"
  },
  "kernelspec": {
   "display_name": "Python 3.10.4 64-bit",
   "language": "python",
   "name": "python3"
  },
  "language_info": {
   "codemirror_mode": {
    "name": "ipython",
    "version": 3
   },
   "file_extension": ".py",
   "mimetype": "text/x-python",
   "name": "python",
   "nbconvert_exporter": "python",
   "pygments_lexer": "ipython3",
   "version": "3.10.4"
  },
  "orig_nbformat": 4
 },
 "nbformat": 4,
 "nbformat_minor": 2
}
