{
 "cells": [
  {
   "cell_type": "markdown",
   "metadata": {},
   "source": [
    "## Examen Final Simulación - UPS Turismo\n",
    "#### Por: Robbyn Reyes"
   ]
  },
  {
   "cell_type": "code",
   "execution_count": 26,
   "metadata": {},
   "outputs": [],
   "source": [
    "## se importan las librerias \n",
    "import collections\n",
    "import simpy\n",
    "import random\n",
    "import matplotlib.pyplot as plt\n",
    "import numpy as np\n",
    "\n",
    "from scipy import stats "
   ]
  },
  {
   "cell_type": "code",
   "execution_count": 60,
   "metadata": {},
   "outputs": [
    {
     "name": "stdout",
     "output_type": "stream",
     "text": [
      "UPS - Turismo\n",
      "el  bus3 con destino Riobamba llego a las  [167.77679876] a su destino\n",
      "el  bus3 con destino Riobamba regreso a las  [228.33017633]\n",
      "el  bus1 con destino Guayaquil llego a las  [364.75267351] a su destino\n",
      "el  bus4 con destino Riobamba llego a las  [386.43816548] a su destino\n",
      "el  bus3 con destino Salinas llego a las  [481.63511848] a su destino\n",
      "el  bus5 con destino Quito llego a las  [596.85613225] a su destino\n",
      "el  bus2 con destino Cuenca llego a las  [626.09371109] a su destino\n",
      "el  bus4 con destino Riobamba regreso a las  [641.66124276]\n",
      "el  bus1 con destino Guayaquil regreso a las  [658.17846601]\n",
      "el  bus3 con destino Salinas regreso a las  [734.94006063]\n",
      "el  bus4 con destino Quito llego a las  [756.57987353] a su destino\n",
      "el  bus4 con destino Quito regreso a las  [871.49850429]\n",
      "el  bus1 con destino Santa Elena llego a las  [996.14814846] a su destino\n",
      "el  bus5 con destino Quito regreso a las  [1038.82164809]\n",
      "el  bus2 con destino Cuenca regreso a las  [1159.96084818]\n",
      "el  bus4 con destino Quito llego a las  [1182.17120045] a su destino\n",
      "el  bus3 con destino Quito llego a las  [1276.49467464] a su destino\n",
      "el  bus1 con destino Santa Elena regreso a las  [1334.11783092]\n",
      "el  bus2 con destino Riobamba llego a las  [1349.79401686] a su destino\n",
      "el  bus5 con destino Cuenca llego a las  [1455.07116331] a su destino\n",
      "el  bus4 con destino Quito regreso a las  [1492.8438966]\n",
      "el  bus2 con destino Riobamba regreso a las  [1539.62718554]\n",
      "el  bus3 con destino Quito regreso a las  [1818.04928865]\n",
      "el  bus5 con destino Cuenca regreso a las  [1871.32067853]\n",
      "el  bus1 con destino Guayaquil llego a las  [1995.16688244] a su destino\n",
      "el  bus3 con destino Guayaquil llego a las  [2036.02461021] a su destino\n",
      "el  bus2 con destino Guayaquil llego a las  [2082.50361572] a su destino\n",
      "el  bus5 con destino Guayaquil llego a las  [2095.74604651] a su destino\n",
      "el  bus4 con destino Riobamba llego a las  [2103.43360652] a su destino\n",
      "el  bus3 con destino Guayaquil regreso a las  [2253.99993176]\n",
      "el  bus5 con destino Guayaquil regreso a las  [2320.17141449]\n",
      "el  bus3 con destino Guayaquil llego a las  [2599.505782] a su destino\n",
      "el  bus2 con destino Guayaquil regreso a las  [2625.3800459]\n",
      "el  bus1 con destino Guayaquil regreso a las  [2656.21593397]\n",
      "el  bus2 con destino Salinas llego a las  [2665.61529058] a su destino\n",
      "el  bus2 con destino Salinas regreso a las  [2705.85053526]\n",
      "el  bus4 con destino Riobamba regreso a las  [2714.02331644]\n",
      "el  bus5 con destino Salinas llego a las  [2735.11010888] a su destino\n",
      "el  bus3 con destino Guayaquil regreso a las  [2945.01163224]\n",
      "el  bus3 con destino Quito llego a las  [2982.25413085] a su destino\n",
      "el  bus3 con destino Quito regreso a las  [3019.49662946]\n",
      "el  bus4 con destino Riobamba llego a las  [3049.6320696] a su destino\n",
      "el  bus1 con destino Santa Elena llego a las  [3056.56486643] a su destino\n",
      "el  bus5 con destino Salinas regreso a las  [3150.04880328]\n",
      "el  bus2 con destino Riobamba llego a las  [3318.79308434] a su destino\n",
      "el  bus3 con destino Cuenca llego a las  [3371.67281753] a su destino\n",
      "el  bus4 con destino Riobamba regreso a las  [3380.45350212]\n",
      "el  bus1 con destino Santa Elena regreso a las  [3456.9137989]\n",
      "el  bus5 con destino Santa Elena llego a las  [3476.34040961] a su destino\n",
      "el  bus4 con destino Santa Elena llego a las  [3618.94367709] a su destino\n",
      "el  bus3 con destino Cuenca regreso a las  [3723.8490056]\n",
      "el  bus5 con destino Santa Elena regreso a las  [3802.63201595]\n",
      "el  bus4 con destino Santa Elena regreso a las  [3857.43385206]\n",
      "el  bus2 con destino Riobamba regreso a las  [3931.73563342]\n",
      "el  bus5 con destino Guayaquil llego a las  [4076.5405983] a su destino\n",
      "el  bus1 con destino Cuenca llego a las  [4109.77903941] a su destino\n",
      "el  bus4 con destino Guayaquil llego a las  [4134.48325532] a su destino\n",
      "el  bus3 con destino Cuenca llego a las  [4291.58819045] a su destino\n",
      "el  bus5 con destino Guayaquil regreso a las  [4350.44918065]\n",
      "el  bus4 con destino Guayaquil regreso a las  [4411.53265858]\n",
      "el  bus1 con destino Cuenca regreso a las  [4762.64427992]\n",
      "el  bus5 con destino Guayaquil llego a las  [4833.00223396] a su destino\n",
      "el  bus2 con destino Quito llego a las  [4853.77423046] a su destino\n",
      "el  bus3 con destino Cuenca regreso a las  [4859.32737529]\n",
      "el  bus4 con destino Quito llego a las  [4930.82374493] a su destino\n",
      "el  bus1 con destino Quito llego a las  [5220.51818546] a su destino\n",
      "el  bus5 con destino Guayaquil regreso a las  [5315.55528727]\n",
      "el  bus3 con destino Quito llego a las  [5359.87053487] a su destino\n",
      "el  bus4 con destino Quito regreso a las  [5450.11483128]\n",
      "el  bus1 con destino Quito regreso a las  [5678.39209099]\n",
      "el  bus4 con destino Quito llego a las  [5679.61441844] a su destino\n",
      "el  bus2 con destino Quito regreso a las  [5775.8128275]\n",
      "el  bus2 con destino Salinas llego a las  [5824.38067479] a su destino\n",
      "el  bus3 con destino Quito regreso a las  [5860.41369444]\n",
      "el  bus2 con destino Salinas regreso a las  [5872.94852208]\n",
      "el  bus4 con destino Quito regreso a las  [5909.1140056]\n",
      "el  bus5 con destino Quito llego a las  [6030.96996501] a su destino\n",
      "el  bus1 con destino Salinas llego a las  [6070.11868108] a su destino\n",
      "el  bus2 con destino Santa Elena llego a las  [6144.61387359] a su destino\n",
      "el  bus4 con destino Riobamba llego a las  [6234.21066006] a su destino\n",
      "el  bus3 con destino Salinas llego a las  [6356.96775984] a su destino\n",
      "el  bus2 con destino Santa Elena regreso a las  [6416.27922511]\n",
      "el  bus1 con destino Salinas regreso a las  [6461.84527118]\n",
      "el  bus1 con destino Riobamba llego a las  [6508.88358032] a su destino\n",
      "el  bus1 con destino Riobamba regreso a las  [6555.92188946]\n",
      "el  bus4 con destino Riobamba regreso a las  [6559.30731452]\n",
      "el  bus5 con destino Quito regreso a las  [6746.38464275]\n",
      "el  bus3 con destino Salinas regreso a las  [6853.52182524]\n",
      "el  bus2 con destino Riobamba llego a las  [7011.84370725] a su destino\n",
      "el  bus1 con destino Riobamba llego a las  [7017.5813737] a su destino\n",
      "el  bus4 con destino Cuenca llego a las  [7110.42630814] a su destino\n",
      "el  bus3 con destino Cuenca llego a las  [7345.74742588] a su destino\n",
      "el  bus5 con destino Cuenca llego a las  [7472.84926098] a su destino\n",
      "el  bus1 con destino Riobamba regreso a las  [7479.24085794]\n",
      "el  bus2 con destino Riobamba regreso a las  [7607.40818939]\n",
      "el  bus4 con destino Cuenca regreso a las  [7653.39673746]\n",
      "el  bus1 con destino Guayaquil llego a las  [7701.11527023] a su destino\n",
      "el  bus3 con destino Cuenca regreso a las  [7837.97302652]\n",
      "el  bus3 con destino Guayaquil llego a las  [7883.58259856] a su destino\n",
      "el  bus4 con destino Cuenca llego a las  [7887.85985481] a su destino\n",
      "el  bus1 con destino Guayaquil regreso a las  [7922.98968252]\n",
      "el  bus3 con destino Guayaquil regreso a las  [7929.19217061]\n",
      "el  bus2 con destino Guayaquil llego a las  [8121.76553283] a su destino\n",
      "el  bus4 con destino Cuenca regreso a las  [8122.32297216]\n",
      "el  bus5 con destino Cuenca regreso a las  [8199.31387921]\n",
      "el  bus4 con destino Quito llego a las  [8282.32971476] a su destino\n",
      "el  bus3 con destino Quito llego a las  [8289.21563222] a su destino\n",
      "el  bus1 con destino Guayaquil llego a las  [8361.62522] a su destino\n",
      "el  bus5 con destino Quito llego a las  [8366.27583721] a su destino\n",
      "el  bus4 con destino Quito regreso a las  [8442.33645737]\n",
      "el  bus5 con destino Quito regreso a las  [8533.23779521]\n",
      "el  bus2 con destino Guayaquil regreso a las  [8636.12287626]\n",
      "el  bus3 con destino Quito regreso a las  [8643.76201712]\n",
      "el  bus3 con destino Salinas llego a las  [8722.00421825] a su destino\n",
      "el  bus3 con destino Salinas regreso a las  [8797.19340715]\n",
      "el  bus1 con destino Guayaquil regreso a las  [8800.26075749]\n",
      "el  bus5 con destino Salinas llego a las  [8895.88141978] a su destino\n",
      "el  bus2 con destino Salinas llego a las  [9233.59378886] a su destino\n",
      "el  bus5 con destino Salinas regreso a las  [9258.52504436]\n",
      "el  bus3 con destino Santa Elena llego a las  [9372.19495002] a su destino\n",
      "el  bus4 con destino Quito llego a las  [9402.46668452] a su destino\n",
      "el  bus1 con destino Riobamba llego a las  [9446.09688478] a su destino\n",
      "el  bus5 con destino Santa Elena llego a las  [9513.44492091] a su destino\n",
      "el  bus5 con destino Santa Elena regreso a las  [9768.36479746]\n",
      "el  bus2 con destino Salinas regreso a las  [9831.06470146]\n",
      "el  bus3 con destino Santa Elena regreso a las  [9947.19649288]\n"
     ]
    }
   ],
   "source": [
    "## Lugares de mayor afluencia\n",
    "## 1. Guayaquil\n",
    "## 2. Quito\n",
    "## 3. Riobamba\n",
    "## 4. Cuenca\n",
    "## 5. Salinas\n",
    "## 6. Santa Elena\n",
    "\n",
    "VELOCIDAD_LLEGADA = 20\n",
    "NUM_BOLETO = 40\n",
    "TIEMPO_SIMULACION = 7*24*60\n",
    "\n",
    "boletos_lugares={}\n",
    "\n",
    "nBus=[0,0,0,0,0]\n",
    "\n",
    "aux=0\n",
    "aux2=0\n",
    "ventas=0\n",
    "ventasPorDia=[]\n",
    "\n",
    "lugaresDestino = {'Guayaquil':0, 'Quito':0, 'Riobamba':0, 'Cuenca':0, 'Salinas':0, 'Santa Elena':0}\n",
    "lugaresOrigen = {'Guayaquil':0, 'Quito':0, 'Riobamba':0, 'Cuenca':0, 'Salinas':0, 'Santa Elena':0}\n",
    "\n",
    "bus1={'1':0,'2':0,'3':0,'4':0,'5':0,'6':0,'7':0}\n",
    "bus2={'1':0,'2':0,'3':0,'4':0,'5':0,'6':0,'7':0}\n",
    "bus3={'1':0,'2':0,'3':0,'4':0,'5':0,'6':0,'7':0}\n",
    "bus4={'1':0,'2':0,'3':0,'4':0,'5':0,'6':0,'7':0}\n",
    "bus5={'1':0,'2':0,'3':0,'4':0,'5':0,'6':0,'7':0}\n",
    "\n",
    "def subida_al_bus(env, nbus, pasajeros, dia):\n",
    "  global nBus\n",
    "  global bus1\n",
    "  global bus2\n",
    "  global bus3\n",
    "  global bus4\n",
    "  global bus5\n",
    "\n",
    "  with buses.request() as bus:\n",
    "    yield bus\n",
    "    nB=0\n",
    "    for i in range(len(nBus)):\n",
    "        if nBus[i] == 0:\n",
    "            nB=i+1\n",
    "            nBus[i] = str(bus)\n",
    "            a='bus'+str(nB)\n",
    "            break\n",
    "    if nB==1:\n",
    "      bus1[dia]+=pasajeros\n",
    "\n",
    "    elif nB==2:\n",
    "      bus2[dia]+=pasajeros\n",
    "      \n",
    "    elif nB==3:\n",
    "      bus3[dia]+=pasajeros\n",
    "\n",
    "    elif nB==4:\n",
    "      bus4[dia]+=pasajeros\n",
    "\n",
    "    elif nB==5:\n",
    "      bus5[dia]+=pasajeros\n",
    "\n",
    "    nbus=nbus.replace('bus',a)\n",
    "    yield env.process(viaje(env, nbus))\n",
    "    nBus[nB-1]=0\n",
    "    \n",
    "\n",
    "def viaje(env, bus):\n",
    "    while True:\n",
    "        mu, sigma = 6*60, 4*60 # media y desvio estandar\n",
    "        normal = stats.norm(mu, sigma)  \n",
    "        aleatorios = normal.rvs(1) \n",
    "        if aleatorios>=0:\n",
    "            break\n",
    "    yield env.timeout(aleatorios)\n",
    "    print('el ', bus, 'llego a las ', env.now, 'a su destino')\n",
    "    yield env.timeout(aleatorios)\n",
    "    print('el ', bus, 'regreso a las ', env.now)\n",
    "\n",
    "\n",
    "def viaje_antes(env,bus, pasajeros):\n",
    "  print('el bus salio antes')\n",
    "  subida_al_bus(env, bus, pasajeros)\n",
    "\n",
    "\n",
    "def ventaBoletos(env, num_boletos, lugar, lugar2,buses):\n",
    "  # print('entra')\n",
    "  global aux\n",
    "  global aux2\n",
    "  global ventas\n",
    "  global ventasPorDia\n",
    "  global lugaresDestino\n",
    "  global lugaresOrigen\n",
    "  with buses.contador.request() as asiento:\n",
    "      \n",
    "      resultado = yield asiento | agencia.sold_out[lugar]\n",
    "      if asiento not in resultado:\n",
    "        agencia.num_renegados[lugar] += 1\n",
    "        return\n",
    "      if agencia.num_boletos[lugar] < num_boletos:\n",
    "        return\n",
    "      else:\n",
    "        lugaresDestino[lugar]+=num_boletos\n",
    "        lugaresOrigen[lugar2]+=num_boletos\n",
    "        aleatorios=0\n",
    "        while True:\n",
    "          mu, sigma = 10, 2 # media y desvio estandar\n",
    "          normal = stats.norm(mu, sigma)  \n",
    "          aleatorios = normal.rvs(1) \n",
    "          if aleatorios>=0:\n",
    "              break\n",
    "        yield env.timeout(aleatorios) \n",
    "        if lugar in list(boletos_lugares.keys()):\n",
    "          a=boletos_lugares.get(lugar)\n",
    "          a.append(num_boletos)\n",
    "          boletos_lugares[lugar]=a\n",
    "        else:\n",
    "          boletos_lugares[lugar]=[num_boletos]\n",
    "      agencia.num_boletos[lugar] -= num_boletos\n",
    "\n",
    "      ro2=env.now/1440\n",
    "      ro2= np.trunc(ro2)\n",
    "      if ro2 != aux2:\n",
    "        # print('dia: ',ro2)\n",
    "        ventasPorDia.append(ventas)\n",
    "        ventas=0\n",
    "        aux2=ro2\n",
    "\n",
    "      if agencia.num_boletos[lugar] < 2:\n",
    "        bus='bus con destino '+lugar\n",
    "        yield env.process(subida_al_bus(env,bus, 40, str(int(ro2[0])+1)))\n",
    "        agencia.sold_out[lugar].succeed()\n",
    "        agencia.tiempo_agotado[lugar] = env.now\n",
    "        z=buses.num_boletos\n",
    "        z[lugar]=40\n",
    "        buses.num_boletos[lugar]=40\n",
    "        buses.sold_out[lugar]=env.event()\n",
    "        ventas+=40\n",
    "\n",
    "      \n",
    "      ro=env.now/60\n",
    "      ro= np.trunc(ro)\n",
    "      if ro != aux:\n",
    "        bus='bus con destino '+lugar\n",
    "        n=40-agencia.num_boletos[lugar]\n",
    "        ventas+=n\n",
    "        yield env.process(subida_al_bus(env,bus, n,str(int(ro2[0])+1)))\n",
    "        agencia.sold_out[lugar].succeed()\n",
    "        agencia.tiempo_agotado[lugar] = env.now\n",
    "        z=buses.num_boletos\n",
    "        z[lugar]=40\n",
    "        buses.num_boletos[lugar]=40\n",
    "        buses.sold_out[lugar]=env.event()\n",
    "        aux=ro\n",
    "\n",
    "def llegadaClientes(env, teatro, VELOCIDAD_LLEGADA):\n",
    "  while True:\n",
    "    yield env.timeout(VELOCIDAD_LLEGADA)\n",
    "    bernoulli = stats.bernoulli(0.5)\n",
    "    pGenero = bernoulli.rvs(1) \n",
    "    genero=''\n",
    "    if pGenero == 1:\n",
    "        genero='masculino'\n",
    "    else:\n",
    "        genero='femenino'\n",
    "    \n",
    "    edad=0\n",
    "    while True:\n",
    "        mu = 20 # parametro de forma \n",
    "        poisson = stats.poisson(mu) \n",
    "        edad=poisson.rvs(1)\n",
    "        if edad>=18:\n",
    "            break\n",
    "    \n",
    "    lugar = random.choices(teatro.lugares, teatro.probabilidad, k=1)\n",
    "    lugar2 = random.choices(teatro.lugares, teatro.probabilidad, k=1)\n",
    "\n",
    "    \n",
    "    num_boletos = random.randint(1, 6)\n",
    "    env.process(ventaBoletos(env, num_boletos, lugar[0],lugar2[0], teatro))\n",
    "\n",
    "\n",
    "Agencia = collections.namedtuple('Teatro', 'contador, lugares, probabilidad, num_boletos, sold_out, tiempo_agotado, num_renegados')\n",
    "\n",
    "print('UPS - Turismo')\n",
    "env = simpy.Environment()\n",
    "\n",
    "contador = simpy.Resource(env,capacity=6)\n",
    "buses = simpy.Resource(env, 5)\n",
    "\n",
    "lugares = ['Guayaquil', 'Quito', 'Riobamba', 'Cuenca', 'Salinas', 'Santa Elena']\n",
    "probabilidad=[0.6,0.5,0.4,0.3,0.2,0.1]\n",
    "\n",
    "num_boletos = {lugar: NUM_BOLETO for lugar in lugares}\n",
    "sold_out = {lugar: env.event() for lugar in lugares}\n",
    "tiempo_agotado = {lugar: None for lugar in lugares}\n",
    "num_renegados = {lugar: 0 for lugar in lugares}\n",
    "\n",
    "agencia = Agencia(contador, lugares, probabilidad, num_boletos, sold_out, tiempo_agotado, num_renegados)\n",
    "env.process(llegadaClientes(env, agencia, VELOCIDAD_LLEGADA))\n",
    "env.run(until=TIEMPO_SIMULACION)"
   ]
  },
  {
   "cell_type": "markdown",
   "metadata": {},
   "source": [
    "### Venta de tickets"
   ]
  },
  {
   "cell_type": "code",
   "execution_count": 61,
   "metadata": {},
   "outputs": [
    {
     "data": {
      "image/png": "[encoded data removed]",
      "text/plain": [
       "<Figure size 1080x432 with 1 Axes>"
      ]
     },
     "metadata": {
      "needs_background": "light"
     },
     "output_type": "display_data"
    }
   ],
   "source": [
    "def add_value_label(x_list,y_list):\n",
    "    for i in range(1, len(x_list)+1):\n",
    "        plt.text(i,y_list[i-1]/2,y_list[i-1], ha=\"center\")\n",
    "\n",
    "eje_x = list(range(1,len(ventasPorDia)+1))\n",
    "eje_y = ventasPorDia\n",
    "\n",
    "plt.figure(figsize=(15, 6))\n",
    "plt.bar(eje_x, eje_y)\n",
    "add_value_label(eje_x, eje_y)\n",
    "\n",
    "plt.title('Venta de tickes por dia')\n",
    "plt.ylabel('# de ventas')\n",
    "plt.xlabel('Dia')\n",
    "plt.show()"
   ]
  },
  {
   "cell_type": "markdown",
   "metadata": {},
   "source": [
    "### Personas que se quedaron sin tickets"
   ]
  },
  {
   "cell_type": "code",
   "execution_count": 62,
   "metadata": {},
   "outputs": [
    {
     "data": {
      "image/png": "[encoded data removed]",
      "text/plain": [
       "<Figure size 1080x432 with 1 Axes>"
      ]
     },
     "metadata": {
      "needs_background": "light"
     },
     "output_type": "display_data"
    }
   ],
   "source": [
    "def add_value_label(x_list,y_list):\n",
    "    for i in range(0, len(x_list)):\n",
    "        plt.text(i,y_list[i]/2,y_list[i], ha=\"center\")\n",
    "        \n",
    "eje_x = list(agencia.num_renegados.keys())\n",
    "eje_y = list(agencia.num_renegados.values())\n",
    "\n",
    "plt.figure(figsize=(15, 6))\n",
    "plt.bar(eje_x, eje_y)\n",
    "add_value_label(eje_x, eje_y)\n",
    "\n",
    "plt.title('Personas que se quedaron sin comprar')\n",
    "plt.ylabel('# de personas')\n",
    "plt.xlabel('Destinos')\n",
    "plt.ylim([0, 140])\n",
    "plt.show()"
   ]
  },
  {
   "cell_type": "markdown",
   "metadata": {},
   "source": [
    "### Lugares de origen y destino mas visitados"
   ]
  },
  {
   "cell_type": "code",
   "execution_count": 63,
   "metadata": {},
   "outputs": [
    {
     "data": {
      "image/png": "[encoded data removed]",
      "text/plain": [
       "<Figure size 1080x432 with 1 Axes>"
      ]
     },
     "metadata": {
      "needs_background": "light"
     },
     "output_type": "display_data"
    }
   ],
   "source": [
    "def add_value_label(x_list,y_list):\n",
    "    for i in range(0, len(x_list)):\n",
    "        plt.text(i,y_list[i]/2,y_list[i], ha=\"center\")\n",
    "        \n",
    "eje_x = list(lugaresOrigen.keys())\n",
    "eje_y = list(lugaresOrigen.values())\n",
    "\n",
    "plt.figure(figsize=(15, 6))\n",
    "plt.bar(eje_x, eje_y)\n",
    "add_value_label(eje_x, eje_y)\n",
    "\n",
    "plt.title('Lugares de Origen mas visitados')\n",
    "plt.ylabel('# de compradores')\n",
    "plt.xlabel('Ciudad Origen')\n",
    "plt.show()"
   ]
  },
  {
   "cell_type": "code",
   "execution_count": 64,
   "metadata": {},
   "outputs": [
    {
     "data": {
      "image/png": "[encoded data removed]",
      "text/plain": [
       "<Figure size 1080x432 with 1 Axes>"
      ]
     },
     "metadata": {
      "needs_background": "light"
     },
     "output_type": "display_data"
    }
   ],
   "source": [
    "def add_value_label(x_list,y_list):\n",
    "    for i in range(0, len(x_list)):\n",
    "        plt.text(i,y_list[i]/2,y_list[i], ha=\"center\")\n",
    "        \n",
    "eje_x = list(lugaresDestino.keys())\n",
    "eje_y = list(lugaresDestino.values())\n",
    "\n",
    "plt.figure(figsize=(15, 6))\n",
    "plt.bar(eje_x, eje_y)\n",
    "add_value_label(eje_x, eje_y)\n",
    "\n",
    "plt.title('Lugares de Destino mas visitados')\n",
    "plt.ylabel('# de compradores')\n",
    "plt.xlabel('Ciudad Destino')\n",
    "plt.show()"
   ]
  },
  {
   "cell_type": "markdown",
   "metadata": {},
   "source": [
    "### Numero de buses y uso diario"
   ]
  },
  {
   "cell_type": "code",
   "execution_count": 65,
   "metadata": {},
   "outputs": [
    {
     "data": {
      "image/png": "[encoded data removed]",
      "text/plain": [
       "<Figure size 1080x432 with 1 Axes>"
      ]
     },
     "metadata": {
      "needs_background": "light"
     },
     "output_type": "display_data"
    }
   ],
   "source": [
    "def add_value_label(x_list,y_list):\n",
    "    for i in range(0, len(x_list)):\n",
    "        plt.text(i,y_list[i]/2,y_list[i], ha=\"center\")\n",
    "        \n",
    "## Bus 1\n",
    "eje_x = list(bus1.keys())\n",
    "eje_y = list(bus1.values())\n",
    "\n",
    "plt.figure(figsize=(15, 6))\n",
    "plt.bar(eje_x, eje_y)\n",
    "add_value_label(eje_x, eje_y)\n",
    "\n",
    "plt.title('Uso de Bus 1')\n",
    "plt.ylabel('# de Pasajeros')\n",
    "plt.xlabel('Dia')\n",
    "plt.show()"
   ]
  },
  {
   "cell_type": "code",
   "execution_count": 66,
   "metadata": {},
   "outputs": [
    {
     "data": {
      "image/png": "[encoded data removed]",
      "text/plain": [
       "<Figure size 1080x432 with 1 Axes>"
      ]
     },
     "metadata": {
      "needs_background": "light"
     },
     "output_type": "display_data"
    }
   ],
   "source": [
    "def add_value_label(x_list,y_list):\n",
    "    for i in range(0, len(x_list)):\n",
    "        plt.text(i,y_list[i]/2,y_list[i], ha=\"center\")\n",
    "        \n",
    "## Bus 2\n",
    "eje_x = list(bus2.keys())\n",
    "eje_y = list(bus2.values())\n",
    "\n",
    "plt.figure(figsize=(15, 6))\n",
    "plt.bar(eje_x, eje_y)\n",
    "add_value_label(eje_x, eje_y)\n",
    "\n",
    "plt.title('Uso de Bus 2')\n",
    "plt.ylabel('# de Pasajeros')\n",
    "plt.xlabel('Dia')\n",
    "plt.show()"
   ]
  },
  {
   "cell_type": "code",
   "execution_count": 67,
   "metadata": {},
   "outputs": [
    {
     "data": {
      "image/png": "[encoded data removed]",
      "text/plain": [
       "<Figure size 1080x432 with 1 Axes>"
      ]
     },
     "metadata": {
      "needs_background": "light"
     },
     "output_type": "display_data"
    }
   ],
   "source": [
    "def add_value_label(x_list,y_list):\n",
    "    for i in range(0, len(x_list)):\n",
    "        plt.text(i,y_list[i]/2,y_list[i], ha=\"center\")\n",
    "        \n",
    "## Bus 3\n",
    "eje_x = list(bus3.keys())\n",
    "eje_y = list(bus3.values())\n",
    "\n",
    "plt.figure(figsize=(15, 6))\n",
    "plt.bar(eje_x, eje_y)\n",
    "add_value_label(eje_x, eje_y)\n",
    "\n",
    "plt.title('Uso de Bus 3')\n",
    "plt.ylabel('# de Pasajeros')\n",
    "plt.xlabel('Dia')\n",
    "plt.show()"
   ]
  },
  {
   "cell_type": "code",
   "execution_count": 68,
   "metadata": {},
   "outputs": [
    {
     "data": {
      "image/png": "[encoded data removed]",
      "text/plain": [
       "<Figure size 1080x432 with 1 Axes>"
      ]
     },
     "metadata": {
      "needs_background": "light"
     },
     "output_type": "display_data"
    }
   ],
   "source": [
    "def add_value_label(x_list,y_list):\n",
    "    for i in range(0, len(x_list)):\n",
    "        plt.text(i,y_list[i]/2,y_list[i], ha=\"center\")\n",
    "        \n",
    "## Bus 4\n",
    "eje_x = list(bus4.keys())\n",
    "eje_y = list(bus4.values())\n",
    "\n",
    "plt.figure(figsize=(15, 6))\n",
    "plt.bar(eje_x, eje_y)\n",
    "add_value_label(eje_x, eje_y)\n",
    "\n",
    "plt.title('Uso de Bus 4')\n",
    "plt.ylabel('# de Pasajeros')\n",
    "plt.xlabel('Dia')\n",
    "plt.show()"
   ]
  },
  {
   "cell_type": "code",
   "execution_count": 69,
   "metadata": {},
   "outputs": [
    {
     "data": {
      "image/png": "[encoded data removed]",
      "text/plain": [
       "<Figure size 1080x432 with 1 Axes>"
      ]
     },
     "metadata": {
      "needs_background": "light"
     },
     "output_type": "display_data"
    }
   ],
   "source": [
    "def add_value_label(x_list,y_list):\n",
    "    for i in range(0, len(x_list)):\n",
    "        plt.text(i,y_list[i]/2,y_list[i], ha=\"center\")\n",
    "        \n",
    "## Bus 5\n",
    "eje_x = list(bus5.keys())\n",
    "eje_y = list(bus5.values())\n",
    "\n",
    "plt.figure(figsize=(15, 6))\n",
    "plt.bar(eje_x, eje_y)\n",
    "add_value_label(eje_x, eje_y)\n",
    "\n",
    "plt.title('Uso de Bus 5')\n",
    "plt.ylabel('# de Pasajeros')\n",
    "plt.xlabel('Dia')\n",
    "plt.show()"
   ]
  },
  {
   "cell_type": "markdown",
   "metadata": {},
   "source": []
  }
 ],
 "metadata": {
  "interpreter": {
   "hash": "31f2aee4e71d21fbe5cf8b01ff0e069b9275f58929596ceb00d14d90e3e16cd6"
  },
  "kernelspec": {
   "display_name": "Python 3.10.4 64-bit",
   "language": "python",
   "name": "python3"
  },
  "language_info": {
   "codemirror_mode": {
    "name": "ipython",
    "version": 3
   },
   "file_extension": ".py",
   "mimetype": "text/x-python",
   "name": "python",
   "nbconvert_exporter": "python",
   "pygments_lexer": "ipython3",
   "version": "3.10.4"
  },
  "orig_nbformat": 4
 },
 "nbformat": 4,
 "nbformat_minor": 2
}
