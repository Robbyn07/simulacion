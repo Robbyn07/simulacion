{
 "cells": [
  {
   "cell_type": "markdown",
   "metadata": {},
   "source": [
    "## Examen Final Simulación - UPS Turismo\n",
    "#### Por: Robbyn Reyes"
   ]
  },
  {
   "cell_type": "code",
   "execution_count": 96,
   "metadata": {},
   "outputs": [],
   "source": [
    "## se importan las librerias \n",
    "import collections\n",
    "import simpy\n",
    "import random\n",
    "import matplotlib.pyplot as plt\n",
    "import numpy as np\n",
    "\n",
    "from scipy import stats "
   ]
  },
  {
   "cell_type": "code",
   "execution_count": 97,
   "metadata": {},
   "outputs": [
    {
     "name": "stdout",
     "output_type": "stream",
     "text": [
      "UPS - Turismo\n",
      "el  bus5 con destino Quito llego a las  [299.0687997] a su destino\n",
      "el  bus1 con destino Guayaquil llego a las  [426.7636492] a su destino\n",
      "el  bus5 con destino Quito regreso a las  [450.55009442]\n",
      "el  bus2 con destino Riobamba llego a las  [519.45130863] a su destino\n",
      "el  bus3 con destino Riobamba llego a las  [688.31544772] a su destino\n",
      "el  bus5 con destino Cuenca llego a las  [740.50480239] a su destino\n",
      "el  bus4 con destino Quito llego a las  [759.9587125] a su destino\n",
      "el  bus1 con destino Guayaquil regreso a las  [787.93780533]\n",
      "el  bus2 con destino Riobamba regreso a las  [946.66831121]\n",
      "el  bus5 con destino Cuenca regreso a las  [1030.45951037]\n",
      "el  bus2 con destino Salinas llego a las  [1257.79836192] a su destino\n",
      "el  bus3 con destino Riobamba regreso a las  [1268.26642657]\n",
      "el  bus4 con destino Quito regreso a las  [1389.36484364]\n",
      "el  bus1 con destino Salinas llego a las  [1437.1985356] a su destino\n",
      "el  bus5 con destino Cuenca llego a las  [1549.33910896] a su destino\n",
      "el  bus2 con destino Salinas regreso a las  [1568.92841264]\n",
      "el  bus3 con destino Salinas llego a las  [1795.88060826] a su destino\n",
      "el  bus4 con destino Salinas llego a las  [1908.61548572] a su destino\n",
      "el  bus2 con destino Santa Elena llego a las  [2035.50955169] a su destino\n",
      "el  bus5 con destino Cuenca regreso a las  [2068.21870755]\n",
      "el  bus1 con destino Salinas regreso a las  [2086.45926587]\n",
      "el  bus1 con destino Santa Elena llego a las  [2110.52552573] a su destino\n",
      "el  bus1 con destino Santa Elena regreso a las  [2134.59178558]\n",
      "el  bus3 con destino Salinas regreso a las  [2323.49478995]\n",
      "el  bus4 con destino Salinas regreso a las  [2427.86612781]\n",
      "el  bus2 con destino Santa Elena regreso a las  [2502.09069074]\n",
      "el  bus5 con destino Santa Elena llego a las  [2631.8731096] a su destino\n",
      "el  bus4 con destino Guayaquil llego a las  [2639.77345532] a su destino\n",
      "el  bus4 con destino Guayaquil regreso a las  [2851.68078283]\n",
      "el  bus2 con destino Guayaquil llego a las  [2936.34410512] a su destino\n",
      "el  bus3 con destino Guayaquil llego a las  [2937.82815252] a su destino\n",
      "el  bus1 con destino Santa Elena llego a las  [3052.48202498] a su destino\n",
      "el  bus5 con destino Santa Elena regreso a las  [3195.52751165]\n",
      "el  bus4 con destino Guayaquil llego a las  [3325.28828509] a su destino\n",
      "el  bus2 con destino Guayaquil regreso a las  [3370.5975195]\n",
      "el  bus3 con destino Guayaquil regreso a las  [3552.1615151]\n",
      "el  bus5 con destino Riobamba llego a las  [3757.38701927] a su destino\n",
      "el  bus4 con destino Guayaquil regreso a las  [3798.89578736]\n",
      "el  bus3 con destino Riobamba llego a las  [3818.42671806] a su destino\n",
      "el  bus4 con destino Quito llego a las  [3896.15192149] a su destino\n",
      "el  bus1 con destino Santa Elena regreso a las  [3970.37226438]\n",
      "el  bus4 con destino Quito regreso a las  [3993.40805563]\n",
      "el  bus3 con destino Riobamba regreso a las  [4084.69192103]\n",
      "el  bus2 con destino Riobamba llego a las  [4144.38021661] a su destino\n",
      "el  bus3 con destino Riobamba llego a las  [4276.98699576] a su destino\n",
      "el  bus5 con destino Riobamba regreso a las  [4319.2465269]\n",
      "el  bus1 con destino Quito llego a las  [4429.30446666] a su destino\n",
      "el  bus3 con destino Riobamba regreso a las  [4469.2820705]\n",
      "el  bus4 con destino Quito llego a las  [4595.95459966] a su destino\n",
      "el  bus5 con destino Salinas llego a las  [4649.4325887] a su destino\n",
      "el  bus3 con destino Salinas llego a las  [4674.60047628] a su destino\n",
      "el  bus3 con destino Salinas regreso a las  [4879.91888207]\n",
      "el  bus1 con destino Quito regreso a las  [4888.23666894]\n",
      "el  bus2 con destino Riobamba regreso a las  [4918.16291371]\n",
      "el  bus5 con destino Salinas regreso a las  [4979.6186505]\n",
      "el  bus4 con destino Quito regreso a las  [5198.5011437]\n",
      "el  bus3 con destino Cuenca llego a las  [5380.52799192] a su destino\n",
      "el  bus5 con destino Cuenca llego a las  [5391.9648566] a su destino\n",
      "el  bus1 con destino Cuenca llego a las  [5443.37425127] a su destino\n",
      "el  bus2 con destino Cuenca llego a las  [5718.71529096] a su destino\n",
      "el  bus5 con destino Cuenca regreso a las  [5804.31106269]\n",
      "el  bus4 con destino Cuenca llego a las  [5880.18602529] a su destino\n",
      "el  bus3 con destino Cuenca regreso a las  [5881.13710177]\n",
      "el  bus1 con destino Cuenca regreso a las  [5998.51183359]\n",
      "el  bus5 con destino Cuenca llego a las  [6143.78671642] a su destino\n",
      "el  bus3 con destino Guayaquil llego a las  [6204.86847301] a su destino\n",
      "el  bus5 con destino Cuenca regreso a las  [6483.26237016]\n",
      "el  bus2 con destino Cuenca regreso a las  [6519.26766821]\n",
      "el  bus3 con destino Guayaquil regreso a las  [6528.59984425]\n",
      "el  bus4 con destino Cuenca regreso a las  [6561.87090688]\n",
      "el  bus4 con destino Santa Elena llego a las  [6652.41735624] a su destino\n",
      "el  bus5 con destino Guayaquil llego a las  [6675.59547214] a su destino\n",
      "el  bus4 con destino Santa Elena regreso a las  [6742.9638056]\n",
      "el  bus1 con destino Guayaquil llego a las  [6866.68199319] a su destino\n",
      "el  bus5 con destino Guayaquil regreso a las  [6867.92857413]\n",
      "el  bus4 con destino Riobamba llego a las  [6950.12884641] a su destino\n",
      "el  bus3 con destino Guayaquil llego a las  [6955.77502448] a su destino\n",
      "el  bus2 con destino Guayaquil llego a las  [6963.58821886] a su destino\n",
      "el  bus4 con destino Riobamba regreso a las  [7157.29388721]\n",
      "el  bus5 con destino Salinas llego a las  [7180.6023462] a su destino\n",
      "el  bus3 con destino Guayaquil regreso a las  [7380.62812503]\n",
      "el  bus2 con destino Guayaquil regreso a las  [7407.90876952]\n",
      "el  bus5 con destino Salinas regreso a las  [7493.27611826]\n",
      "el  bus4 con destino Riobamba llego a las  [7641.95520453] a su destino\n",
      "el  bus1 con destino Guayaquil regreso a las  [7734.85215278]\n",
      "el  bus3 con destino Salinas llego a las  [7814.75797339] a su destino\n",
      "el  bus5 con destino Salinas llego a las  [7896.70835011] a su destino\n",
      "el  bus2 con destino Quito llego a las  [8004.71255239] a su destino\n",
      "el  bus4 con destino Riobamba regreso a las  [8126.61652184]\n",
      "el  bus1 con destino Quito llego a las  [8208.25041952] a su destino\n",
      "el  bus3 con destino Salinas regreso a las  [8248.88782174]\n",
      "el  bus4 con destino Quito llego a las  [8277.1092072] a su destino\n",
      "el  bus5 con destino Salinas regreso a las  [8300.14058195]\n",
      "el  bus4 con destino Quito regreso a las  [8427.60189255]\n",
      "el  bus4 con destino Quito llego a las  [8543.35105396] a su destino\n",
      "el  bus2 con destino Quito regreso a las  [8601.51633526]\n",
      "el  bus4 con destino Quito regreso a las  [8659.10021537]\n",
      "el  bus1 con destino Quito regreso a las  [8681.64868627]\n",
      "el  bus3 con destino Quito llego a las  [8725.76622321] a su destino\n",
      "el  bus2 con destino Cuenca llego a las  [8815.54919777] a su destino\n",
      "el  bus5 con destino Quito llego a las  [8863.52356068] a su destino\n",
      "el  bus1 con destino Santa Elena llego a las  [8906.29675909] a su destino\n",
      "el  bus2 con destino Cuenca regreso a las  [9029.58206029]\n",
      "el  bus1 con destino Santa Elena regreso a las  [9130.94483192]\n",
      "el  bus4 con destino Cuenca llego a las  [9154.46904614] a su destino\n",
      "el  bus2 con destino Cuenca llego a las  [9156.05350479] a su destino\n",
      "el  bus3 con destino Quito regreso a las  [9202.64462467]\n",
      "el  bus2 con destino Cuenca regreso a las  [9282.5249493]\n",
      "el  bus5 con destino Quito regreso a las  [9426.9065394]\n",
      "el  bus5 con destino Guayaquil llego a las  [9493.12141523] a su destino\n",
      "el  bus5 con destino Guayaquil regreso a las  [9559.33629105]\n",
      "el  bus4 con destino Cuenca regreso a las  [9649.83787691]\n",
      "el  bus5 con destino Guayaquil llego a las  [9661.34479695] a su destino\n",
      "el  bus2 con destino Guayaquil llego a las  [9749.25622943] a su destino\n",
      "el  bus5 con destino Guayaquil regreso a las  [9763.35330285]\n",
      "el  bus1 con destino Guayaquil llego a las  [9774.70549293] a su destino\n",
      "el  bus3 con destino Guayaquil llego a las  [9796.30084674] a su destino\n"
     ]
    }
   ],
   "source": [
    "## Lugares de mayor afluencia\n",
    "## 1. Guayaquil\n",
    "## 2. Quito\n",
    "## 3. Riobamba\n",
    "## 4. Cuenca\n",
    "## 5. Salinas\n",
    "## 6. Santa Elena\n",
    "\n",
    "VELOCIDAD_LLEGADA = 20\n",
    "NUM_BOLETO = 40\n",
    "TIEMPO_SIMULACION = 7*24*60\n",
    "\n",
    "boletos_lugares = {}\n",
    "nBus = [0,0,0,0,0]\n",
    "\n",
    "aux = 0\n",
    "aux2 = 0\n",
    "ventas = 0\n",
    "ventasPorDia = []\n",
    "\n",
    "lugaresDestino = {'Guayaquil':0, 'Quito':0, 'Riobamba':0, 'Cuenca':0, 'Salinas':0, 'Santa Elena':0}\n",
    "lugaresOrigen = {'Guayaquil':0, 'Quito':0, 'Riobamba':0, 'Cuenca':0, 'Salinas':0, 'Santa Elena':0}\n",
    "\n",
    "bus1 = {'1':0,'2':0,'3':0,'4':0,'5':0,'6':0,'7':0}\n",
    "bus2 = {'1':0,'2':0,'3':0,'4':0,'5':0,'6':0,'7':0}\n",
    "bus3 = {'1':0,'2':0,'3':0,'4':0,'5':0,'6':0,'7':0}\n",
    "bus4 = {'1':0,'2':0,'3':0,'4':0,'5':0,'6':0,'7':0}\n",
    "bus5 = {'1':0,'2':0,'3':0,'4':0,'5':0,'6':0,'7':0}\n",
    "\n",
    "def subida_al_bus(env, nbus, pasajeros, dia):\n",
    "  global nBus\n",
    "  global bus1\n",
    "  global bus2\n",
    "  global bus3\n",
    "  global bus4\n",
    "  global bus5\n",
    "\n",
    "  with buses.request() as bus:\n",
    "    yield bus\n",
    "    nB = 0\n",
    "\n",
    "    for i in range(len(nBus)):\n",
    "        if nBus[i] == 0:\n",
    "            nB = i+1\n",
    "            nBus[i] = str(bus)\n",
    "            a = 'bus'+str(nB)\n",
    "            break\n",
    "          \n",
    "    if nB == 1:\n",
    "      bus1[dia] += pasajeros\n",
    "\n",
    "    elif nB == 2:\n",
    "      bus2[dia] += pasajeros\n",
    "      \n",
    "    elif nB == 3:\n",
    "      bus3[dia] += pasajeros\n",
    "\n",
    "    elif nB == 4:\n",
    "      bus4[dia] += pasajeros\n",
    "\n",
    "    elif nB == 5:\n",
    "      bus5[dia] += pasajeros\n",
    "\n",
    "    nbus = nbus.replace('bus',a)\n",
    "    yield env.process(viaje(env, nbus))\n",
    "    nBus[nB-1] = 0\n",
    "    \n",
    "\n",
    "def viaje(env, bus):\n",
    "    while True:\n",
    "        mu, sigma = 6*60, 4*60\n",
    "        normal = stats.norm(mu, sigma)  \n",
    "        aleatorios = normal.rvs(1) \n",
    "\n",
    "        if aleatorios >= 0:\n",
    "            break\n",
    "\n",
    "    yield env.timeout(aleatorios)\n",
    "    print('el ', bus, 'llego a las ', env.now, 'a su destino')\n",
    "\n",
    "    yield env.timeout(aleatorios)\n",
    "    print('el ', bus, 'regreso a las ', env.now)\n",
    "\n",
    "def viaje_antes(env,bus, pasajeros):\n",
    "  print('el bus salio antes')\n",
    "  subida_al_bus(env, bus, pasajeros)\n",
    "\n",
    "def ventaBoletos(env, num_boletos, lugar, lugar2,buses):\n",
    "  global aux\n",
    "  global aux2\n",
    "  global ventas\n",
    "  global ventasPorDia\n",
    "  global lugaresDestino\n",
    "  global lugaresOrigen\n",
    "\n",
    "  with buses.contador.request() as asiento:\n",
    "      resultado = yield asiento | agencia.sold_out[lugar]\n",
    "\n",
    "      if asiento not in resultado:\n",
    "        agencia.num_renegados[lugar] += 1\n",
    "        return\n",
    "\n",
    "      if agencia.num_boletos[lugar] < num_boletos:\n",
    "        return\n",
    "\n",
    "      else:\n",
    "        lugaresDestino[lugar] += num_boletos\n",
    "        lugaresOrigen[lugar2] += num_boletos\n",
    "        aleatorios = 0\n",
    "\n",
    "        while True:\n",
    "          mu, sigma = 10, 2 # media y desvio estandar\n",
    "          normal = stats.norm(mu, sigma)  \n",
    "          aleatorios = normal.rvs(1)\n",
    "\n",
    "          if aleatorios>=0:\n",
    "              break\n",
    "        yield env.timeout(aleatorios) \n",
    "\n",
    "        if lugar in list(boletos_lugares.keys()):\n",
    "          a = boletos_lugares.get(lugar)\n",
    "          a.append(num_boletos)\n",
    "          boletos_lugares[lugar] = a\n",
    "\n",
    "        else:\n",
    "          boletos_lugares[lugar] = [num_boletos]\n",
    "      agencia.num_boletos[lugar] -= num_boletos\n",
    "\n",
    "      ro2 = env.now/1440\n",
    "      ro2 = np.trunc(ro2)\n",
    "\n",
    "      if ro2 != aux2:\n",
    "        ventasPorDia.append(ventas)\n",
    "        ventas = 0\n",
    "        aux2 = ro2\n",
    "\n",
    "      if agencia.num_boletos[lugar] < 2:\n",
    "        bus='bus con destino ' + lugar\n",
    "        yield env.process(subida_al_bus(env,bus, 40, str(int(ro2[0])+1)))\n",
    "\n",
    "        agencia.sold_out[lugar].succeed()\n",
    "        agencia.tiempo_agotado[lugar] = env.now\n",
    "        z = buses.num_boletos\n",
    "        z[lugar] = 40\n",
    "        buses.num_boletos[lugar] = 40\n",
    "        buses.sold_out[lugar] = env.event()\n",
    "        ventas += 40\n",
    "\n",
    "      ro = env.now/60\n",
    "      ro = np.trunc(ro)\n",
    "\n",
    "      if ro != aux:\n",
    "        bus = 'bus con destino '+lugar\n",
    "        n = 40-agencia.num_boletos[lugar]\n",
    "        ventas += n\n",
    "        yield env.process(subida_al_bus(env,bus, n,str(int(ro2[0])+1)))\n",
    "\n",
    "        agencia.sold_out[lugar].succeed()\n",
    "        agencia.tiempo_agotado[lugar] = env.now\n",
    "        z = buses.num_boletos\n",
    "        z[lugar] = 40\n",
    "        buses.num_boletos[lugar] = 40\n",
    "        buses.sold_out[lugar] = env.event()\n",
    "        aux = ro\n",
    "\n",
    "def llegadaClientes(env, turismo, VELOCIDAD_LLEGADA):\n",
    "  while True:\n",
    "    yield env.timeout(VELOCIDAD_LLEGADA)\n",
    "    bernoulli = stats.bernoulli(0.5)\n",
    "    pGenero = bernoulli.rvs(1) \n",
    "    genero = ''\n",
    "\n",
    "    if pGenero == 1:\n",
    "        genero='masculino'\n",
    "    else:\n",
    "        genero='femenino'\n",
    "    \n",
    "    edad = 0\n",
    "\n",
    "    while True:\n",
    "        mu = 20 # parametro de forma \n",
    "        poisson = stats.poisson(mu) \n",
    "        edad = poisson.rvs(1)\n",
    "        if edad >= 18:\n",
    "            break\n",
    "    \n",
    "    lugar_o = random.choices(turismo.lugares, turismo.probabilidad, k=1)\n",
    "    lugar_d = random.choices(turismo.lugares, turismo.probabilidad, k=1)\n",
    "\n",
    "    num_boletos = random.randint(1, 6)\n",
    "    env.process(ventaBoletos(env, num_boletos, lugar_o[0],lugar_d[0], turismo))\n",
    "\n",
    "Agencia = collections.namedtuple('Teatro', 'contador, lugares, probabilidad, num_boletos, sold_out, tiempo_agotado, num_renegados')\n",
    "\n",
    "print('UPS - Turismo')\n",
    "env = simpy.Environment()\n",
    "\n",
    "contador = simpy.Resource(env,capacity=6)\n",
    "buses = simpy.Resource(env, 5)\n",
    "\n",
    "lugares = ['Guayaquil', 'Quito', 'Riobamba', 'Cuenca', 'Salinas', 'Santa Elena']\n",
    "probabilidad = [0.6,0.5,0.4,0.3,0.2,0.1]\n",
    "num_boletos = {lugar: NUM_BOLETO for lugar in lugares}\n",
    "sold_out = {lugar: env.event() for lugar in lugares}\n",
    "tiempo_agotado = {lugar: None for lugar in lugares}\n",
    "num_renegados = {lugar: 0 for lugar in lugares}\n",
    "\n",
    "agencia = Agencia(contador, lugares, probabilidad, num_boletos, sold_out, tiempo_agotado, num_renegados)\n",
    "env.process(llegadaClientes(env, agencia, VELOCIDAD_LLEGADA))\n",
    "env.run(until=TIEMPO_SIMULACION)"
   ]
  },
  {
   "cell_type": "markdown",
   "metadata": {},
   "source": [
    "### Venta de tickets"
   ]
  },
  {
   "cell_type": "code",
   "execution_count": 98,
   "metadata": {},
   "outputs": [
    {
     "data": {
      "image/png": "[encoded data removed]",
      "text/plain": [
       "<Figure size 1080x432 with 1 Axes>"
      ]
     },
     "metadata": {
      "needs_background": "light"
     },
     "output_type": "display_data"
    }
   ],
   "source": [
    "def add_value_label(x_list,y_list):\n",
    "    for i in range(1, len(x_list)+1):\n",
    "        plt.text(i,y_list[i-1]/2,y_list[i-1], ha=\"center\")\n",
    "\n",
    "eje_x = list(range(1,len(ventasPorDia)+1))\n",
    "eje_y = ventasPorDia\n",
    "\n",
    "plt.figure(figsize=(15, 6))\n",
    "plt.bar(eje_x, eje_y)\n",
    "add_value_label(eje_x, eje_y)\n",
    "\n",
    "plt.title('Venta de tickes por dia')\n",
    "plt.ylabel('# de ventas')\n",
    "plt.xlabel('Dia')\n",
    "plt.show()"
   ]
  },
  {
   "cell_type": "markdown",
   "metadata": {},
   "source": [
    "### Personas que se quedaron sin tickets"
   ]
  },
  {
   "cell_type": "code",
   "execution_count": 99,
   "metadata": {},
   "outputs": [
    {
     "data": {
      "image/png": "[encoded data removed]",
      "text/plain": [
       "<Figure size 1080x432 with 1 Axes>"
      ]
     },
     "metadata": {
      "needs_background": "light"
     },
     "output_type": "display_data"
    }
   ],
   "source": [
    "def add_value_label(x_list,y_list):\n",
    "    for i in range(0, len(x_list)):\n",
    "        plt.text(i,y_list[i]/2,y_list[i], ha=\"center\")\n",
    "        \n",
    "eje_x = list(agencia.num_renegados.keys())\n",
    "eje_y = list(agencia.num_renegados.values())\n",
    "\n",
    "plt.figure(figsize=(15, 6))\n",
    "plt.bar(eje_x, eje_y)\n",
    "add_value_label(eje_x, eje_y)\n",
    "\n",
    "plt.title('Personas que se quedaron sin comprar')\n",
    "plt.ylabel('# de personas')\n",
    "plt.xlabel('Destinos')\n",
    "plt.ylim([0, 140])\n",
    "plt.show()"
   ]
  },
  {
   "cell_type": "markdown",
   "metadata": {},
   "source": [
    "### Lugares de origen y destino mas visitados"
   ]
  },
  {
   "cell_type": "code",
   "execution_count": 100,
   "metadata": {},
   "outputs": [
    {
     "data": {
      "image/png": "[encoded data removed]",
      "text/plain": [
       "<Figure size 1080x432 with 1 Axes>"
      ]
     },
     "metadata": {
      "needs_background": "light"
     },
     "output_type": "display_data"
    }
   ],
   "source": [
    "def add_value_label(x_list,y_list):\n",
    "    for i in range(0, len(x_list)):\n",
    "        plt.text(i,y_list[i]/2,y_list[i], ha=\"center\")\n",
    "        \n",
    "eje_x = list(lugaresOrigen.keys())\n",
    "eje_y = list(lugaresOrigen.values())\n",
    "\n",
    "plt.figure(figsize=(15, 6))\n",
    "plt.bar(eje_x, eje_y)\n",
    "add_value_label(eje_x, eje_y)\n",
    "\n",
    "plt.title('Lugares de Origen mas visitados')\n",
    "plt.ylabel('# de compradores')\n",
    "plt.xlabel('Ciudad Origen')\n",
    "plt.show()"
   ]
  },
  {
   "cell_type": "code",
   "execution_count": 101,
   "metadata": {},
   "outputs": [
    {
     "data": {
      "image/png": "[encoded data removed]",
      "text/plain": [
       "<Figure size 1080x432 with 1 Axes>"
      ]
     },
     "metadata": {
      "needs_background": "light"
     },
     "output_type": "display_data"
    }
   ],
   "source": [
    "def add_value_label(x_list,y_list):\n",
    "    for i in range(0, len(x_list)):\n",
    "        plt.text(i,y_list[i]/2,y_list[i], ha=\"center\")\n",
    "        \n",
    "eje_x = list(lugaresDestino.keys())\n",
    "eje_y = list(lugaresDestino.values())\n",
    "\n",
    "plt.figure(figsize=(15, 6))\n",
    "plt.bar(eje_x, eje_y)\n",
    "add_value_label(eje_x, eje_y)\n",
    "\n",
    "plt.title('Lugares de Destino mas visitados')\n",
    "plt.ylabel('# de compradores')\n",
    "plt.xlabel('Ciudad Destino')\n",
    "plt.show()"
   ]
  },
  {
   "cell_type": "markdown",
   "metadata": {},
   "source": [
    "### Numero de buses y uso diario"
   ]
  },
  {
   "cell_type": "code",
   "execution_count": 102,
   "metadata": {},
   "outputs": [
    {
     "data": {
      "image/png": "[encoded data removed]",
      "text/plain": [
       "<Figure size 1080x432 with 1 Axes>"
      ]
     },
     "metadata": {
      "needs_background": "light"
     },
     "output_type": "display_data"
    }
   ],
   "source": [
    "def add_value_label(x_list,y_list):\n",
    "    for i in range(0, len(x_list)):\n",
    "        plt.text(i,y_list[i]/2,y_list[i], ha=\"center\")\n",
    "        \n",
    "## Bus 1\n",
    "eje_x = list(bus1.keys())\n",
    "eje_y = list(bus1.values())\n",
    "\n",
    "plt.figure(figsize=(15, 6))\n",
    "plt.bar(eje_x, eje_y)\n",
    "add_value_label(eje_x, eje_y)\n",
    "\n",
    "plt.title('Uso de Bus 1')\n",
    "plt.ylabel('# de Pasajeros')\n",
    "plt.xlabel('Dia')\n",
    "plt.show()"
   ]
  },
  {
   "cell_type": "code",
   "execution_count": 103,
   "metadata": {},
   "outputs": [
    {
     "data": {
      "image/png": "[encoded data removed]",
      "text/plain": [
       "<Figure size 1080x432 with 1 Axes>"
      ]
     },
     "metadata": {
      "needs_background": "light"
     },
     "output_type": "display_data"
    }
   ],
   "source": [
    "def add_value_label(x_list,y_list):\n",
    "    for i in range(0, len(x_list)):\n",
    "        plt.text(i,y_list[i]/2,y_list[i], ha=\"center\")\n",
    "        \n",
    "## Bus 2\n",
    "eje_x = list(bus2.keys())\n",
    "eje_y = list(bus2.values())\n",
    "\n",
    "plt.figure(figsize=(15, 6))\n",
    "plt.bar(eje_x, eje_y)\n",
    "add_value_label(eje_x, eje_y)\n",
    "\n",
    "plt.title('Uso de Bus 2')\n",
    "plt.ylabel('# de Pasajeros')\n",
    "plt.xlabel('Dia')\n",
    "plt.show()"
   ]
  },
  {
   "cell_type": "code",
   "execution_count": 104,
   "metadata": {},
   "outputs": [
    {
     "data": {
      "image/png": "[encoded data removed]",
      "text/plain": [
       "<Figure size 1080x432 with 1 Axes>"
      ]
     },
     "metadata": {
      "needs_background": "light"
     },
     "output_type": "display_data"
    }
   ],
   "source": [
    "def add_value_label(x_list,y_list):\n",
    "    for i in range(0, len(x_list)):\n",
    "        plt.text(i,y_list[i]/2,y_list[i], ha=\"center\")\n",
    "        \n",
    "## Bus 3\n",
    "eje_x = list(bus3.keys())\n",
    "eje_y = list(bus3.values())\n",
    "\n",
    "plt.figure(figsize=(15, 6))\n",
    "plt.bar(eje_x, eje_y)\n",
    "add_value_label(eje_x, eje_y)\n",
    "\n",
    "plt.title('Uso de Bus 3')\n",
    "plt.ylabel('# de Pasajeros')\n",
    "plt.xlabel('Dia')\n",
    "plt.show()"
   ]
  },
  {
   "cell_type": "code",
   "execution_count": 105,
   "metadata": {},
   "outputs": [
    {
     "data": {
      "image/png": "[encoded data removed]",
      "text/plain": [
       "<Figure size 1080x432 with 1 Axes>"
      ]
     },
     "metadata": {
      "needs_background": "light"
     },
     "output_type": "display_data"
    }
   ],
   "source": [
    "def add_value_label(x_list,y_list):\n",
    "    for i in range(0, len(x_list)):\n",
    "        plt.text(i,y_list[i]/2,y_list[i], ha=\"center\")\n",
    "        \n",
    "## Bus 4\n",
    "eje_x = list(bus4.keys())\n",
    "eje_y = list(bus4.values())\n",
    "\n",
    "plt.figure(figsize=(15, 6))\n",
    "plt.bar(eje_x, eje_y)\n",
    "add_value_label(eje_x, eje_y)\n",
    "\n",
    "plt.title('Uso de Bus 4')\n",
    "plt.ylabel('# de Pasajeros')\n",
    "plt.xlabel('Dia')\n",
    "plt.show()"
   ]
  },
  {
   "cell_type": "code",
   "execution_count": 106,
   "metadata": {},
   "outputs": [
    {
     "data": {
      "image/png": "[encoded data removed]",
      "text/plain": [
       "<Figure size 1080x432 with 1 Axes>"
      ]
     },
     "metadata": {
      "needs_background": "light"
     },
     "output_type": "display_data"
    }
   ],
   "source": [
    "def add_value_label(x_list,y_list):\n",
    "    for i in range(0, len(x_list)):\n",
    "        plt.text(i,y_list[i]/2,y_list[i], ha=\"center\")\n",
    "        \n",
    "## Bus 5\n",
    "eje_x = list(bus5.keys())\n",
    "eje_y = list(bus5.values())\n",
    "\n",
    "plt.figure(figsize=(15, 6))\n",
    "plt.bar(eje_x, eje_y)\n",
    "add_value_label(eje_x, eje_y)\n",
    "\n",
    "plt.title('Uso de Bus 5')\n",
    "plt.ylabel('# de Pasajeros')\n",
    "plt.xlabel('Dia')\n",
    "plt.show()"
   ]
  },
  {
   "cell_type": "markdown",
   "metadata": {},
   "source": []
  }
 ],
 "metadata": {
  "interpreter": {
   "hash": "31f2aee4e71d21fbe5cf8b01ff0e069b9275f58929596ceb00d14d90e3e16cd6"
  },
  "kernelspec": {
   "display_name": "Python 3.10.4 64-bit",
   "language": "python",
   "name": "python3"
  },
  "language_info": {
   "codemirror_mode": {
    "name": "ipython",
    "version": 3
   },
   "file_extension": ".py",
   "mimetype": "text/x-python",
   "name": "python",
   "nbconvert_exporter": "python",
   "pygments_lexer": "ipython3",
   "version": "3.10.4"
  },
  "orig_nbformat": 4
 },
 "nbformat": 4,
 "nbformat_minor": 2
}
