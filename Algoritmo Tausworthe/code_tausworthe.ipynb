{
 "cells": [
  {
   "cell_type": "markdown",
   "metadata": {},
   "source": [
    "#### Para mejorar la generación de numeros aleatorios se utiliza procesos o algoritmo criptograficos, en base a ellos realizar la investigación e implementación del algoritmo Tausworthe"
   ]
  },
  {
   "cell_type": "code",
   "execution_count": 4,
   "metadata": {},
   "outputs": [
    {
     "name": "stdout",
     "output_type": "stream",
     "text": [
      "Total de bits segun la cantidad:  [0, 0, 1, 0, 1, 1, 0, 0, 1, 1, 1, 1, 1, 0, 0, 0, 1, 1, 0, 1, 1, 1, 0, 1, 0, 1, 0, 0, 0, 0, 1, 0, 0, 1, 0, 1, 1]\n",
      "Bits separados segun el valor de l:  [[0, 0, 1, 0], [1, 1, 0, 0], [1, 1, 1, 1], [1, 0, 0, 0], [1, 1, 0, 1], [1, 1, 0, 1], [0, 1, 0, 0], [0, 0, 1, 0], [0, 1, 0, 1], [1]]\n",
      "Vector de decimales (bits convertidos):  [2, 12, 15, 8, 13, 13, 4, 2, 5, 1]\n",
      "Resultados:  [0.125, 0.75, 0.9375, 0.5, 0.8125, 0.8125, 0.25, 0.125, 0.3125, 0.0625]\n"
     ]
    }
   ],
   "source": [
    "##Codigo de Python\n",
    "import random\n",
    "\n",
    "##Valores de r, q y l pueden cambiar, tener en cuenta (r<q) \n",
    "r = 3\n",
    "q = 5\n",
    "l = 4\n",
    "\n",
    "#vector_inicial = [1, 1, 1, 1, 1]\n",
    "vector_inicial = []\n",
    "for i in range(q):\n",
    "    vector_inicial.append(random.randint(0,1))\n",
    "    \n",
    "\n",
    "#print('Primeros bits: ',vector_inicial)\n",
    "\n",
    "##Valor de la cantidad de bits a generar, puede cambiar\n",
    "generar = 37\n",
    "vector_total = vector_inicial\n",
    "\n",
    "for i in range(q+1, generar+1):\n",
    "    if vector_inicial[(i-r)-1] == vector_inicial[(i-q)-1]:\n",
    "        vector_total.append(0)\n",
    "    else:\n",
    "        vector_total.append(1)\n",
    "\n",
    "print('Total de bits segun la cantidad: ', vector_total)\n",
    "\n",
    "vector_separados = []\n",
    "\n",
    "for i in range(0, len(vector_total), l):\n",
    "    vector_separados.append(vector_total[i:i + l])\n",
    "\n",
    "print('Bits separados segun el valor de l: ', vector_separados)\n",
    "\n",
    "vector_decimales = []\n",
    "\n",
    "for i in vector_separados:\n",
    "    numero_bin = (\"\").join(str(e) for e in i)\n",
    "    vector_decimales.append(int(numero_bin, 2))\n",
    "\n",
    "print('Vector de decimales (bits convertidos): ', vector_decimales)\n",
    "\n",
    "vector_final = []\n",
    "\n",
    "for i in vector_decimales:\n",
    "    vector_final.append(i/2**l)\n",
    "\n",
    "print('Resultados: ', vector_final)"
   ]
  },
  {
   "cell_type": "code",
   "execution_count": null,
   "metadata": {},
   "outputs": [],
   "source": []
  }
 ],
 "metadata": {
  "interpreter": {
   "hash": "31f2aee4e71d21fbe5cf8b01ff0e069b9275f58929596ceb00d14d90e3e16cd6"
  },
  "kernelspec": {
   "display_name": "Python 3.9.7 64-bit",
   "language": "python",
   "name": "python3"
  },
  "language_info": {
   "codemirror_mode": {
    "name": "ipython",
    "version": 3
   },
   "file_extension": ".py",
   "mimetype": "text/x-python",
   "name": "python",
   "nbconvert_exporter": "python",
   "pygments_lexer": "ipython3",
   "version": "3.9.7"
  },
  "orig_nbformat": 4
 },
 "nbformat": 4,
 "nbformat_minor": 2
}
